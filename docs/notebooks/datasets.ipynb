{
 "cells": [
  {
   "cell_type": "markdown",
   "metadata": {},
   "source": [
    "# Creating data sets\n",
    "In this section it will be shown how to handle both binned and unbinned data sets in the MinKit package. All the functions accept either NumPy ndarray objects or GPU arrays. The general idea is to load data to NumPy ndarray objects and, if using a GPU backend, send them to the device. Only GPU arrays returned by MinKit classes and functions are supported."
   ]
  },
  {
   "cell_type": "code",
   "execution_count": 1,
   "metadata": {},
   "outputs": [],
   "source": [
    "%matplotlib inline\n",
    "import matplotlib.pyplot as plt\n",
    "import minkit\n",
    "import numpy as np\n",
    "\n",
    "minkit.initialize()"
   ]
  },
  {
   "cell_type": "markdown",
   "metadata": {},
   "source": [
    "## Binned data sets\n",
    "A binned data set is composed by two arrays, one defining the centers of the bins, and another the values in them. Let's create some data and then a binned data set with their contents."
   ]
  },
  {
   "cell_type": "code",
   "execution_count": 2,
   "metadata": {},
   "outputs": [
    {
     "data": {
      "image/png": "[encoded data removed]",
      "text/plain": [
       "<Figure size 432x288 with 1 Axes>"
      ]
     },
     "metadata": {
      "needs_background": "light"
     },
     "output_type": "display_data"
    }
   ],
   "source": [
    "x = minkit.Parameter('x', bounds=(10, 20))\n",
    "\n",
    "numpy_data = np.random.normal(15, 1, 10000)\n",
    "\n",
    "values, edges = np.histogram(numpy_data, bins=100, range=x.bounds)\n",
    "\n",
    "data = minkit.BinnedDataSet.from_array(edges, x, values)\n",
    "\n",
    "e = minkit.as_ndarray(data[x.name])\n",
    "\n",
    "plt.hist((e[1:] + e[:-1]) / 2., bins=e, weights=values);"
   ]
  },
  {
   "cell_type": "markdown",
   "metadata": {},
   "source": [
    "Note that we have created a data set from a single array. If we had more than one data parameter, we must use the constructor. The centers are accessed using the [] operator. Since it return an array corresponding to the current backend, it is better to call \"minkit.as_ndarray\" in order to get the corresponding NumPy ndarray."
   ]
  },
  {
   "cell_type": "markdown",
   "metadata": {},
   "source": [
    "## Unbinned data sets\n",
    "In this case, the data set represents an array of values for each data parameter. These data sets are meant to be used in unbinned maximum likelihood fits."
   ]
  },
  {
   "cell_type": "code",
   "execution_count": 3,
   "metadata": {},
   "outputs": [],
   "source": [
    "data = minkit.DataSet.from_array(numpy_data, x)"
   ]
  },
  {
   "cell_type": "markdown",
   "metadata": {},
   "source": [
    "Similarly to binned data sets, if we have more than one data parameter we must use the constructor of the class. Values inside the data set have not been trimmed, that is, points outside the bounds defined by the data parameter are not removed, although it will be done if we decide to do certain operations on them, like a fit. The DataSet class allows to add, merge and create subsets."
   ]
  },
  {
   "cell_type": "code",
   "execution_count": 4,
   "metadata": {},
   "outputs": [
    {
     "name": "stdout",
     "output_type": "stream",
     "text": [
      "Length of primordial sample: 10000\n",
      "Length of merged data sample: 11000\n",
      "Length of data with new data: 11000\n",
      "Length of primordial data set (unchanged): 10000\n",
      "Length of primordial data set after adding in-place: 11000\n"
     ]
    }
   ],
   "source": [
    "new_numpy_data = np.random.normal(15, 1, 1000)\n",
    "\n",
    "print(f'Length of primordial sample: {len(data)}')\n",
    "\n",
    "new_data = minkit.DataSet.from_array(new_numpy_data, x)\n",
    "\n",
    "merged_data = minkit.DataSet.merge([data, new_data])\n",
    "\n",
    "print(f'Length of merged data sample: {len(merged_data)}')\n",
    "\n",
    "add_data = data.add(new_data)\n",
    "\n",
    "print(f'Length of data with new data: {len(add_data)}')\n",
    "print(f'Length of primordial data set (unchanged): {len(data)}')\n",
    "\n",
    "data.add(new_data, inplace=True)\n",
    "\n",
    "print(f'Length of primordial data set after adding in-place: {len(data)}')"
   ]
  },
  {
   "cell_type": "markdown",
   "metadata": {},
   "source": [
    "In binned data sets we can also define a set of weights to use."
   ]
  },
  {
   "cell_type": "code",
   "execution_count": 5,
   "metadata": {},
   "outputs": [],
   "source": [
    "weights = np.random.uniform(0, 1, len(numpy_data))\n",
    "\n",
    "data = minkit.DataSet.from_array(numpy_data, x, weights=weights)"
   ]
  }
 ],
 "metadata": {
  "kernelspec": {
   "display_name": "Python 3",
   "language": "python",
   "name": "python3"
  },
  "language_info": {
   "codemirror_mode": {
    "name": "ipython",
    "version": 3
   },
   "file_extension": ".py",
   "mimetype": "text/x-python",
   "name": "python",
   "nbconvert_exporter": "python",
   "pygments_lexer": "ipython3",
   "version": "3.6.8"
  }
 },
 "nbformat": 4,
 "nbformat_minor": 2
}
