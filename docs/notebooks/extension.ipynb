{
 "cells": [
  {
   "cell_type": "markdown",
   "metadata": {},
   "source": [
    "# Adding custom PDFs\n",
    "The \"minkit\" package allows to easily register new PDFs.\n",
    "Depending on the backend to be used, the PDF code must be implemented in C++ or in both C++ and CUDA.\n",
    "The latter is needed since the single-value evaluation function and the normalization are taken from the C++ source file of the PDFs. In the following lines, it will be shown how to register a new PDF in both CPU and GPU backends."
   ]
  },
  {
   "cell_type": "markdown",
   "metadata": {},
   "source": [
    "## Adding a custom PDF in the CPU backend\n",
    "In order to add a new PDF for CPU, we must create a source C++ file, and tell the \"minkit\" package to add its directory to the list of directories to search for PDFs. For this example, we will create a C++ file from python on a temporary directory."
   ]
  },
  {
   "cell_type": "code",
   "execution_count": 1,
   "metadata": {},
   "outputs": [],
   "source": [
    "import minkit\n",
    "import os\n",
    "import tempfile\n",
    "\n",
    "minkit.initialize(backend='cpu')\n",
    "\n",
    "tmpdir = tempfile.TemporaryDirectory()\n",
    "\n",
    "with open(os.path.join(tmpdir.name, 'CustomPDF.cpp'), 'wt') as f:\n",
    "    f.write('''\n",
    "        #include <cmath>\n",
    "\n",
    "        extern \"C\" {\n",
    "\n",
    "          static inline double shared_function( double x, double k ) {\n",
    "            return std::exp(k * x);\n",
    "          }\n",
    "          \n",
    "          static inline double integral( double k, double xmin, double xmax ) {\n",
    "            return 1. / k * (std::exp(k * xmax) - std::exp(k * xmin));\n",
    "          }\n",
    "\n",
    "          double function( double x, double k ) {\n",
    "            return shared_function(x, k);\n",
    "          }\n",
    "\n",
    "          void evaluate( int len, double *out, double* in, double k ) {\n",
    "            for ( int i = 0; i < len; ++i )\n",
    "              out[i] = shared_function(in[i], k);\n",
    "          }\n",
    "\n",
    "          void evaluate_binned( int len, double *out, double k, double *edges ) {\n",
    "            for ( int i = 0; i < len; ++i )\n",
    "              out[i] = integral(k, edges[i], edges[i + 1]);\n",
    "          }\n",
    "\n",
    "          double normalization( double k, double xmin, double xmax ) {\n",
    "            return integral(k, xmin, xmax);\n",
    "          }\n",
    "    \n",
    "        }\n",
    "        ''')"
   ]
  },
  {
   "cell_type": "markdown",
   "metadata": {},
   "source": [
    "Note that we have created four functions, although only two of them are usually needed:\n",
    "\n",
    "* \"shared_function\" is an static function that will contain the actual function to evaluate (an exponential in this case).\n",
    "* \"function\": is a version of the function to evaluate on a single value.\n",
    "* \"evaluate\": is the function to be used on arrays, so the first element must be the length of the input arrays. The next argument corresponds to the pointer to the output array, followed by those of the input (data) arrays, and finally the arguments for the PDF.\n",
    "* \"evaluate_binned\": function to be used when dealing with binned data sets. It must correspond to the integral of the PDF between two bounds, defined by \"edges\". If \"normalization\" is defined, one can also define \"evaluate_binned\". If it is not provided, MinKit will calculate it numerically.\n",
    "* \"normalization\": this defines the way to integrate the PDF. If it is not provided, a numerical integration will be used.\n",
    "\n",
    "In conclusion, only \"function\" and \"evaluate\" are actually needed, but one should always try to define \"normalization\" and \"evaluate_binned\", since calculating integrals numerically is very resource-consuming.\n",
    "\n",
    "Now we have to register the PDF. In order to be used in python, we must tell minkit to look for PDFs in the temporary directory."
   ]
  },
  {
   "cell_type": "code",
   "execution_count": 2,
   "metadata": {},
   "outputs": [],
   "source": [
    "minkit.add_pdf_src(tmpdir.name)"
   ]
  },
  {
   "cell_type": "markdown",
   "metadata": {},
   "source": [
    "Now we have to build a python object to represent the PDF. This is directly done when inheriting from \"minkit.SourcePDF\", which will automatically set our PDF."
   ]
  },
  {
   "cell_type": "code",
   "execution_count": 3,
   "metadata": {},
   "outputs": [],
   "source": [
    "@minkit.register_pdf\n",
    "class CustomPDF(minkit.SourcePDF):\n",
    "    def __init__( self, name, x, k ):\n",
    "        super(CustomPDF, self).__init__(name, [x], [k])"
   ]
  },
  {
   "cell_type": "markdown",
   "metadata": {},
   "source": [
    "The \"register_pdf\" decorator is necessary if we want to save/load the PDF to/from JSON files. It is completely necessary that we call the function the same way we call the source file. The arguments to the \"minkit.SourcePDF\" constructor are the name of the PDF, the data parameters and the argument parameters. Now we can declare and use our function."
   ]
  },
  {
   "cell_type": "code",
   "execution_count": 4,
   "metadata": {},
   "outputs": [
    {
     "data": {
      "image/png": "[encoded data removed]",
      "text/plain": [
       "<Figure size 432x288 with 1 Axes>"
      ]
     },
     "metadata": {
      "needs_background": "light"
     },
     "output_type": "display_data"
    }
   ],
   "source": [
    "x = minkit.Parameter('x', bounds=(0, 10))\n",
    "k = minkit.Parameter('k', -0.5)\n",
    "pdf = CustomPDF('pdf', x, k)\n",
    "data = pdf.generate(10000)\n",
    "%matplotlib inline\n",
    "import matplotlib.pyplot as plt\n",
    "plt.hist(minkit.as_ndarray(data['x']), bins=100);"
   ]
  },
  {
   "cell_type": "markdown",
   "metadata": {},
   "source": [
    "## New PDFs with a variable number of arguments\n",
    "It might happen that one wants to define a general function, which depends on a list of parameters that can vary (for example, a polynomial) from one construction to another.\n",
    "This can be done on a similar way to that of the previous section, providing as a third argument to \"minkit.SourcePDF\" the list of extra arguments."
   ]
  },
  {
   "cell_type": "code",
   "execution_count": 5,
   "metadata": {},
   "outputs": [],
   "source": [
    "@minkit.register_pdf\n",
    "class VarArgsCustomPDF(minkit.SourcePDF):\n",
    "    def __init__( self, name, x, *coeffs ):\n",
    "        super(VarArgsCustomPDF, self).__init__(name, [x], None, coeffs)"
   ]
  },
  {
   "cell_type": "markdown",
   "metadata": {},
   "source": [
    "Note that one can also define PDFs with a set of fixed parameters and a set of variable parameters."
   ]
  },
  {
   "cell_type": "markdown",
   "metadata": {},
   "source": [
    "## Adding a custom PDF in the GPU backend\n",
    "In order to add PDFs for GPU backends, one needs to define first the C++ version of it, presented in the previous sections. The source file for the GPU backend can be in any registered source path via the \"minkit.add_pdf_src\" function. The \"minkit\" package relies on \"reikna\" in order to define functions to run on GPUs, so the syntax must be the same as for any \"reikna\" function. Let's define the GPU version of the exponential."
   ]
  },
  {
   "cell_type": "code",
   "execution_count": 6,
   "metadata": {},
   "outputs": [],
   "source": [
    "with open(os.path.join(tmpdir.name, 'CustomPDF.c'), 'wt') as f:\n",
    "    f.write('''\n",
    "        KERNEL void evaluate( GLOBAL_MEM double *out, GLOBAL_MEM double *in, double k )\n",
    "        {\n",
    "            SIZE_T idx  = get_global_id(0);\n",
    "            double x = in[idx];\n",
    "            out[idx] = exp(k * x);\n",
    "        }\n",
    "        KERNEL void evaluate_binned( GLOBAL_MEM double *out, double k, double *edges )\n",
    "        {\n",
    "            SIZE_T idx = get_global_id(0);\n",
    "            out[idx] = 1. / k * (exp(k * edges[idx + 1]) - exp(k * edges[idx]));\n",
    "        }\n",
    "        ''')"
   ]
  },
  {
   "cell_type": "markdown",
   "metadata": {},
   "source": [
    "Not thate the arguments are the same as for the C++ version, but we have only defined the \"evaluate\" function here. For the GPU implementation we do not need to define the length of the element, since this is taken from the global ID of the running thread. To run on GPU we simply need to include these lines together before the construction of any CustomPDF class with the backend set to any GPU type, and we are ready to go.\n"
   ]
  }
 ],
 "metadata": {
  "kernelspec": {
   "display_name": "Python 3",
   "language": "python",
   "name": "python3"
  },
  "language_info": {
   "codemirror_mode": {
    "name": "ipython",
    "version": 3
   },
   "file_extension": ".py",
   "mimetype": "text/x-python",
   "name": "python",
   "nbconvert_exporter": "python",
   "pygments_lexer": "ipython3",
   "version": "3.6.8"
  }
 },
 "nbformat": 4,
 "nbformat_minor": 2
}
