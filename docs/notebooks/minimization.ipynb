{
 "cells": [
  {
   "cell_type": "markdown",
   "metadata": {},
   "source": [
    "# Minimization with MinKit\n",
    "The main purpose of the MinKit package is to do minimizations of PDFs to data sets, finding the set of parameter values that reproduce better the data. The user must be aware about the type of PDF is trying to fit, and select a proper minimization cuantity (FCN) accordingly. For example, if we are dealing with an unbinned dataset, we need an FCN defined for binned data sets. The same stands for extended and non-extended PDFs. The user must know whether an unbinned extended maximum likelihood FCN is needed or not. To give an idea of how the minimization is done with MinKit, let's create a simple model, generate some data, and fit it."
   ]
  },
  {
   "cell_type": "code",
   "execution_count": 1,
   "metadata": {},
   "outputs": [
    {
     "name": "stdout",
     "output_type": "stream",
     "text": [
      "------------------------------------------------------------------\n",
      "| FCN = 2.831E+04               |      Ncalls=41 (41 total)      |\n",
      "| EDM = 1.8E-06 (Goal: 1E-05)   |            up = 1.0            |\n",
      "------------------------------------------------------------------\n",
      "|  Valid Min.   | Valid Param.  | Above EDM | Reached call limit |\n",
      "------------------------------------------------------------------\n",
      "|     True      |     True      |   False   |       False        |\n",
      "------------------------------------------------------------------\n",
      "| Hesse failed  |   Has cov.    | Accurate  | Pos. def. | Forced |\n",
      "------------------------------------------------------------------\n",
      "|     False     |     True      |   True    |   True    | False  |\n",
      "------------------------------------------------------------------\n",
      "------------------------------------------------------------------------------------------\n",
      "|   | Name |   Value   | Hesse Err | Minos Err- | Minos Err+ | Limit-  | Limit+  | Fixed |\n",
      "------------------------------------------------------------------------------------------\n",
      "| 0 | c    |  15.004   |   0.010   |            |            |   10    |   20    |       |\n",
      "| 1 | s    |   0.996   |   0.007   |            |            |   0.1   |    2    |       |\n",
      "------------------------------------------------------------------------------------------\n"
     ]
    },
    {
     "data": {
      "image/png": "[encoded data removed]",
      "text/plain": [
       "<Figure size 432x288 with 1 Axes>"
      ]
     },
     "metadata": {
      "needs_background": "light"
     },
     "output_type": "display_data"
    }
   ],
   "source": [
    "%matplotlib inline\n",
    "import matplotlib.pyplot as plt\n",
    "import minkit\n",
    "\n",
    "# Build the PDF\n",
    "x = minkit.Parameter('x', bounds=(10, 20))\n",
    "c = minkit.Parameter('c', 15, bounds=(10, 20))\n",
    "s = minkit.Parameter('s', 1, bounds=(0.1, 2))\n",
    "\n",
    "g = minkit.Gaussian('g', x, c, s)\n",
    "\n",
    "# Keep the initial values\n",
    "initials = g.get_values()\n",
    "\n",
    "# Generate data and do the fit\n",
    "data = g.generate(10000)\n",
    "\n",
    "with minkit.minimizer('uml', g, data) as minimizer:\n",
    "    result = minimizer.migrad()\n",
    "    \n",
    "print(result)\n",
    "\n",
    "g.set_values(**minkit.minuit_to_registry(result.params).values())\n",
    "\n",
    "# Plot the results\n",
    "values, edges = minkit.data_plotting_arrays(data, bins=100)\n",
    "\n",
    "centers = 0.5 * (edges[1:] + edges[:-1])\n",
    "\n",
    "plt.hist(centers, bins=edges, weights=values, histtype='step', color='k', label='data');\n",
    "\n",
    "gx, pdf_values = minkit.pdf_plotting_arrays(g, values, edges)\n",
    "plt.plot(gx, pdf_values, color='blue', label='PDF')\n",
    "plt.legend();\n",
    "\n",
    "# Reset values\n",
    "g.set_values(**initials)"
   ]
  },
  {
   "cell_type": "markdown",
   "metadata": {},
   "source": [
    "Note that we have called \"minkit.minimizer\" in order to create a context and do the minimization. The first argument is the FCN to use, an unbinned maximum likelihood in this case. It is very important that we do not change the properties of the PDF inside the \"with\" statement. This is because the PDF has enabled a cache. This means that, if the parameters have been set to constant, the evaluation of the PDF over the data values might have been kept in the cache, to reduce the execution time.\n",
    "\n",
    "Let's create a more complex model, adding a background-like contribution, using an exponential."
   ]
  },
  {
   "cell_type": "code",
   "execution_count": 2,
   "metadata": {},
   "outputs": [
    {
     "name": "stdout",
     "output_type": "stream",
     "text": [
      "------------------------------------------------------------------\n",
      "| FCN = 4.163E+04               |     Ncalls=116 (116 total)     |\n",
      "| EDM = 1.42E-06 (Goal: 1E-05)  |            up = 1.0            |\n",
      "------------------------------------------------------------------\n",
      "|  Valid Min.   | Valid Param.  | Above EDM | Reached call limit |\n",
      "------------------------------------------------------------------\n",
      "|     True      |     True      |   False   |       False        |\n",
      "------------------------------------------------------------------\n",
      "| Hesse failed  |   Has cov.    | Accurate  | Pos. def. | Forced |\n",
      "------------------------------------------------------------------\n",
      "|     False     |     True      |   True    |   True    | False  |\n",
      "------------------------------------------------------------------\n",
      "------------------------------------------------------------------------------------------\n",
      "|   | Name |   Value   | Hesse Err | Minos Err- | Minos Err+ | Limit-  | Limit+  | Fixed |\n",
      "------------------------------------------------------------------------------------------\n",
      "| 0 | y    |   0.514   |   0.009   |            |            |    0    |    1    |       |\n",
      "| 1 | c    |  1.500E1  |  0.000E1  |            |            |   10    |   20    |       |\n",
      "| 2 | s    |   1.004   |   0.020   |            |            |   0.1   |    2    |       |\n",
      "| 3 | k    |  -0.109   |   0.006   |            |            |   -1    |    0    |       |\n",
      "------------------------------------------------------------------------------------------\n"
     ]
    },
    {
     "data": {
      "image/png": "[encoded data removed]",
      "text/plain": [
       "<Figure size 432x288 with 1 Axes>"
      ]
     },
     "metadata": {
      "needs_background": "light"
     },
     "output_type": "display_data"
    }
   ],
   "source": [
    "# Make the exponential PDF\n",
    "k = minkit.Parameter('k', -0.1, bounds=(-1, 0))\n",
    "\n",
    "e = minkit.Exponential('e', x, k)\n",
    "\n",
    "# Add the two PDFs\n",
    "y = minkit.Parameter('y', 0.5, bounds=(0, 1))\n",
    "\n",
    "pdf = minkit.AddPDFs.two_components('pdf', g, e, y)\n",
    "\n",
    "data = pdf.generate(10000)\n",
    "\n",
    "# Keep the initial values\n",
    "initials = pdf.get_values()\n",
    "\n",
    "# Minimize the PDF\n",
    "with minkit.minimizer('uml', pdf, data) as minimizer:\n",
    "    result = minimizer.migrad()\n",
    "\n",
    "print(result)\n",
    "\n",
    "pdf.set_values(**minkit.minuit_to_registry(result.params).values())\n",
    "\n",
    "values, edges = minkit.data_plotting_arrays(data, bins=100)\n",
    "\n",
    "centers = 0.5 * (edges[1:] + edges[:-1])\n",
    "\n",
    "plt.hist(centers, bins=edges, weights=values, histtype='step', color='k', label='data');\n",
    "\n",
    "gx, pdf_values = minkit.pdf_plotting_arrays(pdf, values, edges)\n",
    "plt.plot(gx, pdf_values, color='blue', label='PDF')\n",
    "plt.legend();\n",
    "\n",
    "# Reset values\n",
    "pdf.set_values(**initials)"
   ]
  },
  {
   "cell_type": "markdown",
   "metadata": {},
   "source": [
    "Easy, right? Let's now assume we want to know the two yields of the PDFs. To do this we need to modify the model, and do and use an extended likelihood during the minimization."
   ]
  },
  {
   "cell_type": "code",
   "execution_count": 3,
   "metadata": {},
   "outputs": [
    {
     "name": "stdout",
     "output_type": "stream",
     "text": [
      "------------------------------------------------------------------\n",
      "| FCN = -1.223E+05              |      Ncalls=71 (71 total)      |\n",
      "| EDM = 9.26E-07 (Goal: 1E-05)  |            up = 1.0            |\n",
      "------------------------------------------------------------------\n",
      "|  Valid Min.   | Valid Param.  | Above EDM | Reached call limit |\n",
      "------------------------------------------------------------------\n",
      "|     False     |     True      |   False   |       False        |\n",
      "------------------------------------------------------------------\n",
      "| Hesse failed  |   Has cov.    | Accurate  | Pos. def. | Forced |\n",
      "------------------------------------------------------------------\n",
      "|     True      |     True      |   False   |   False   | False  |\n",
      "------------------------------------------------------------------\n",
      "------------------------------------------------------------------------------------------\n",
      "|   | Name |   Value   | Hesse Err | Minos Err- | Minos Err+ | Limit-  | Limit+  | Fixed |\n",
      "------------------------------------------------------------------------------------------\n",
      "| 0 | ng   |  0.500E4  |  0.000E4  |            |            |    0    |  10000  |       |\n",
      "| 1 | ne   |  0.500E4  |  0.000E4  |            |            |    0    |  10000  |       |\n",
      "| 2 | c    |    15     |     0     |            |            |   10    |   20    |       |\n",
      "| 3 | s    |    1.0    |    0.0    |            |            |   0.1   |    2    |       |\n",
      "| 4 | k    |   -0.10   |    0.00   |            |            |   -1    |    0    |       |\n",
      "------------------------------------------------------------------------------------------\n"
     ]
    },
    {
     "data": {
      "image/png": "[encoded data removed]",
      "text/plain": [
       "<Figure size 432x288 with 1 Axes>"
      ]
     },
     "metadata": {
      "needs_background": "light"
     },
     "output_type": "display_data"
    }
   ],
   "source": [
    "# Build the extended PDF\n",
    "ng = minkit.Parameter('ng', 5000, bounds=(0, 10000))\n",
    "ne = minkit.Parameter('ne', 5000, bounds=(0, 10000))\n",
    "\n",
    "pdf = minkit.AddPDFs.two_components('pdf', g, e, ng, ne)\n",
    "\n",
    "initials = pdf.get_values()\n",
    "\n",
    "# Generate and fit\n",
    "data = pdf.generate(int(ng.value + ne.value))\n",
    "\n",
    "with minkit.minimizer('ueml', pdf, data) as minimizer:\n",
    "    result = minimizer.migrad()\n",
    "\n",
    "print(result)\n",
    "\n",
    "# Plot the results\n",
    "pdf.set_values(**minkit.minuit_to_registry(result.params).values())\n",
    "\n",
    "values, edges = minkit.data_plotting_arrays(data, bins=100)\n",
    "\n",
    "centers = 0.5 * (edges[1:] + edges[:-1])\n",
    "\n",
    "plt.hist(centers, bins=edges, weights=values, histtype='step', color='k', label='data');\n",
    "\n",
    "gx, pdf_values = minkit.pdf_plotting_arrays(pdf, values, edges)\n",
    "plt.plot(gx, pdf_values, color='blue', label='PDF')\n",
    "plt.legend();\n",
    "\n",
    "# Reset the values\n",
    "pdf.set_values(**initials)"
   ]
  },
  {
   "cell_type": "markdown",
   "metadata": {},
   "source": [
    "Note that we have specified the \"ueml\" (unbinned extended maximum likelihood) FCN. If we set it to \"uml\", we would get wrong values. Let's now see what happens with binned data sets. In this case, we will use the \"bml\" FCN."
   ]
  },
  {
   "cell_type": "code",
   "execution_count": 4,
   "metadata": {},
   "outputs": [
    {
     "name": "stdout",
     "output_type": "stream",
     "text": [
      "------------------------------------------------------------------\n",
      "| FCN = -7.628E+04              |     Ncalls=209 (209 total)     |\n",
      "| EDM = 3E-05 (Goal: 1E-05)     |            up = 1.0            |\n",
      "------------------------------------------------------------------\n",
      "|  Valid Min.   | Valid Param.  | Above EDM | Reached call limit |\n",
      "------------------------------------------------------------------\n",
      "|     True      |     True      |   False   |       False        |\n",
      "------------------------------------------------------------------\n",
      "| Hesse failed  |   Has cov.    | Accurate  | Pos. def. | Forced |\n",
      "------------------------------------------------------------------\n",
      "|     False     |     True      |   True    |   True    | False  |\n",
      "------------------------------------------------------------------\n",
      "------------------------------------------------------------------------------------------\n",
      "|   | Name |   Value   | Hesse Err | Minos Err- | Minos Err+ | Limit-  | Limit+  | Fixed |\n",
      "------------------------------------------------------------------------------------------\n",
      "| 0 | ng   |  0.508E4  |  0.011E4  |            |            |    0    |  10000  |       |\n",
      "| 1 | ne   |  0.492E4  |  0.011E4  |            |            |    0    |  10000  |       |\n",
      "| 2 | c    |  15.015   |   0.021   |            |            |   10    |   20    |       |\n",
      "| 3 | s    |   1.027   |   0.021   |            |            |   0.1   |    2    |       |\n",
      "| 4 | k    |  -0.102   |   0.006   |            |            |   -1    |    0    |       |\n",
      "------------------------------------------------------------------------------------------\n"
     ]
    },
    {
     "data": {
      "image/png": "[encoded data removed]",
      "text/plain": [
       "<Figure size 432x288 with 1 Axes>"
      ]
     },
     "metadata": {
      "needs_background": "light"
     },
     "output_type": "display_data"
    }
   ],
   "source": [
    "import numpy as np\n",
    "\n",
    "values, edges = np.histogram(data['x'].as_ndarray(), bins=100, range=x.bounds)\n",
    "\n",
    "binned_data = minkit.BinnedDataSet.from_array(edges, x, values)\n",
    "\n",
    "with minkit.minimizer('bml', pdf, binned_data) as minimizer:\n",
    "    result = minimizer.migrad()\n",
    "\n",
    "print(result)\n",
    "\n",
    "pdf.set_values(**minkit.minuit_to_registry(result.params).values())\n",
    "\n",
    "values, edges = minkit.data_plotting_arrays(data, bins=100)\n",
    "\n",
    "centers = 0.5 * (edges[1:] + edges[:-1])\n",
    "\n",
    "plt.hist(centers, bins=edges, weights=values, histtype='step', color='k', label='data');\n",
    "\n",
    "gx, pdf_values = minkit.pdf_plotting_arrays(pdf, values, edges)\n",
    "plt.plot(gx, pdf_values, color='blue', label='PDF');\n",
    "plt.legend();\n",
    "\n",
    "# Reset the values\n",
    "pdf.set_values(**initials)"
   ]
  },
  {
   "cell_type": "markdown",
   "metadata": {},
   "source": [
    "Similarly, with the FCN \"chi2\" we would be doing a fit to the chi-square, that is, we would be assuming that the input values, instead of following a Poisson distribution, they follow a Gaussian."
   ]
  }
 ],
 "metadata": {
  "kernelspec": {
   "display_name": "Python 3",
   "language": "python",
   "name": "python3"
  },
  "language_info": {
   "codemirror_mode": {
    "name": "ipython",
    "version": 3
   },
   "file_extension": ".py",
   "mimetype": "text/x-python",
   "name": "python",
   "nbconvert_exporter": "python",
   "pygments_lexer": "ipython3",
   "version": "3.6.8"
  }
 },
 "nbformat": 4,
 "nbformat_minor": 2
}
