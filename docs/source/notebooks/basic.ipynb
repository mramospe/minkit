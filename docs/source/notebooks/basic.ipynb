{
 "cells": [
  {
   "cell_type": "markdown",
   "metadata": {},
   "source": [
    "# Basic example\n",
    "In this tutorial, it will be shown how to create data set from any source of data. It will also be shown how to create PDF object from a given set of parameters, and how to generate a sample from it and fit it accordingly.\n"
   ]
  },
  {
   "cell_type": "code",
   "execution_count": 1,
   "metadata": {},
   "outputs": [],
   "source": [
    "%matplotlib inline\n",
    "import minkit"
   ]
  },
  {
   "cell_type": "markdown",
   "metadata": {},
   "source": [
    "## Creating a data set\n",
    "Data sets can be constructed in many different manners. In this tutorial we will work in the 1-D case, which is also the most common situation. First we need to define the parameter associated to the data. In our case, it will be considered to have values between -5 and +5.\n",
    "These bounds will define the valid range for the different operations of the PDF involving it. The data set can be easily constructed from a numpy array as follows:"
   ]
  },
  {
   "cell_type": "code",
   "execution_count": 2,
   "metadata": {},
   "outputs": [],
   "source": [
    "import numpy as np\n",
    "x = minkit.Parameter('x', bounds=(-5, +5))\n",
    "raw = np.random.normal(0, 1, 10000)\n",
    "real_data = minkit.DataSet.from_ndarray(raw, x)"
   ]
  },
  {
   "cell_type": "markdown",
   "metadata": {},
   "source": [
    "Now the data set contains values following a Gaussian distribution between -5 and +5."
   ]
  },
  {
   "cell_type": "markdown",
   "metadata": {},
   "source": [
    "## Creating a PDF\n",
    "Creating a PDF needs to define previously a set of parameters that rule the behaviour of the function. Let's take a closer look to our data parameter."
   ]
  },
  {
   "cell_type": "code",
   "execution_count": 3,
   "metadata": {},
   "outputs": [
    {
     "name": "stdout",
     "output_type": "stream",
     "text": [
      "Parameter(name=x, value=None, bounds=[-5.  5.], error=None, asym_errors=None, constant=False)\n"
     ]
    }
   ],
   "source": [
    "print(x)"
   ]
  },
  {
   "cell_type": "markdown",
   "metadata": {},
   "source": [
    "As you can see, the created parameter has information about the name, value, bounds, its error, a possible set of asymmetric errors, and whether it must be considered as constant.\n",
    "We will now create a Gaussian function with two additional parameters: one corresponding to the center, and another for the standard deviation."
   ]
  },
  {
   "cell_type": "code",
   "execution_count": 4,
   "metadata": {},
   "outputs": [],
   "source": [
    "c = minkit.Parameter('c', value=0.)\n",
    "s = minkit.Parameter('s', value=1.)"
   ]
  },
  {
   "cell_type": "markdown",
   "metadata": {},
   "source": [
    "The PDF is constructed taking the parameters as input arguments, together with a name, that identifies the new PDF object."
   ]
  },
  {
   "cell_type": "code",
   "execution_count": 5,
   "metadata": {},
   "outputs": [],
   "source": [
    "g = minkit.Gaussian('g', x, c, s)"
   ]
  },
  {
   "cell_type": "markdown",
   "metadata": {},
   "source": [
    "## Generating data\n",
    "Let's now create some data, which can be easily done using the *generate* method of the newly created PDF."
   ]
  },
  {
   "cell_type": "code",
   "execution_count": 6,
   "metadata": {},
   "outputs": [],
   "source": [
    "data = g.generate(10000)"
   ]
  },
  {
   "cell_type": "markdown",
   "metadata": {},
   "source": [
    "This creates a new data set, that in this case only has one associated data parameter. It is easy to plot the output since we can access the data for each data parameter as a dictionary."
   ]
  },
  {
   "cell_type": "code",
   "execution_count": 7,
   "metadata": {},
   "outputs": [
    {
     "data": {
      "text/plain": [
       "dtype  = <class 'numpy.float64'>\n",
       "length = 10000\n",
       "ndim   = 1\n",
       "array  = [-0.37153528  0.63089708  1.0977352  ...  0.31882077  0.96242752\n",
       "  0.82112392]"
      ]
     },
     "execution_count": 7,
     "metadata": {},
     "output_type": "execute_result"
    }
   ],
   "source": [
    "data['x']"
   ]
  },
  {
   "cell_type": "markdown",
   "metadata": {},
   "source": [
    "It is important to note that if we are working on a backend involving GPUs, then it is necessary to copy the contents to the CPU before working with numpy or matplotlib. This can be done with the *as_ndarray* method of the returned object, and is a good practice to use it wherever we plan to work with exclusive CPU operations, since changing from one backend to the other will become trivial. In this case, the returned object will be the same as in the previous operation.\n"
   ]
  },
  {
   "cell_type": "code",
   "execution_count": 8,
   "metadata": {},
   "outputs": [
    {
     "data": {
      "text/plain": [
       "array([-0.37153528,  0.63089708,  1.0977352 , ...,  0.31882077,\n",
       "        0.96242752,  0.82112392])"
      ]
     },
     "execution_count": 8,
     "metadata": {},
     "output_type": "execute_result"
    }
   ],
   "source": [
    "data['x'].as_ndarray()"
   ]
  },
  {
   "cell_type": "markdown",
   "metadata": {},
   "source": [
    "## Plotting the results\n",
    "In order to handle the data correctly when displaying the results, it is recommended to use the *data_plotting_arrays* function. On the other hand, in order to plot the result of the PDF it is necessary to call *pdf_plotting_arrays*, so the PDF is correctly normalized to the data."
   ]
  },
  {
   "cell_type": "code",
   "execution_count": 9,
   "metadata": {},
   "outputs": [
    {
     "data": {
      "image/png": "[encoded data removed]",
      "text/plain": [
       "<Figure size 432x288 with 1 Axes>"
      ]
     },
     "metadata": {
      "needs_background": "light"
     },
     "output_type": "display_data"
    }
   ],
   "source": [
    "import matplotlib.pyplot as plt\n",
    "values, edges = minkit.data_plotting_arrays(data, bins=100)\n",
    "centers = 0.5 * (edges[1:] + edges[:-1])\n",
    "plt.hist(centers, bins=edges, weights=values, histtype='step') # Plot the data\n",
    "gf, sf = minkit.pdf_plotting_arrays(g, values, edges)\n",
    "plt.plot(gf, sf); # Plot the PDF"
   ]
  },
  {
   "cell_type": "markdown",
   "metadata": {},
   "source": [
    "## Running a simple fit\n",
    "Let's now fit the data. The process of generating a sample following a distribution from a PDF and fitting it afterwards to the same function is very common in order to do tests of fit estability. In order to do this, first we must initialize a minimizer. These are declared within a context, since some machinery is activated behind your back in order to enable caches for constant PDFs or interpolation maps. It is very important that we do not modify the constness of the values or the data set within this context, since it may lead to an undefined behaviour."
   ]
  },
  {
   "cell_type": "code",
   "execution_count": 10,
   "metadata": {},
   "outputs": [],
   "source": [
    "c.bounds = (-1, +1)\n",
    "s.bounds = (0.1, 5)\n",
    "with minkit.minimizer('uml', g, data, minimizer='minuit') as minimizer:\n",
    "    # do not modify the bounds of the parameters in this context\n",
    "    minimizer.migrad()"
   ]
  },
  {
   "cell_type": "markdown",
   "metadata": {},
   "source": [
    "The first argument to *minimizer* is the FCN type, which defines the figure of merit to minimize. The second is the PDF and the third is the data set. For this case, the Minuit minimizer is used, so the result of *minimizer* becomes an interface to the *Minuit* class from the *iminuit* package. The minimizer works in such a way that the values of the parameters are automatically set to the result of the minimization process. We can extract the values of the parameters by calling"
   ]
  },
  {
   "cell_type": "code",
   "execution_count": 11,
   "metadata": {},
   "outputs": [
    {
     "name": "stdout",
     "output_type": "stream",
     "text": [
      "[Parameter(name=c, value=-0.0014037068905285999, bounds=[-1.  1.], error=0.010034899926962382, asym_errors=None, constant=False), Parameter(name=s, value=1.0034984434836025, bounds=[0.1 5. ], error=0.00709633235506224, asym_errors=None, constant=False)]\n"
     ]
    }
   ],
   "source": [
    "reg = g.all_real_args.copy()\n",
    "print(reg)"
   ]
  },
  {
   "cell_type": "markdown",
   "metadata": {},
   "source": [
    "The resulting registry is a new set of parameters that are not linked to those that were minimized (despite they have the same name)."
   ]
  }
 ],
 "metadata": {
  "kernelspec": {
   "display_name": "Python 3",
   "language": "python",
   "name": "python3"
  },
  "language_info": {
   "codemirror_mode": {
    "name": "ipython",
    "version": 3
   },
   "file_extension": ".py",
   "mimetype": "text/x-python",
   "name": "python",
   "nbconvert_exporter": "python",
   "pygments_lexer": "ipython3",
   "version": "3.7.6"
  }
 },
 "nbformat": 4,
 "nbformat_minor": 2
}
