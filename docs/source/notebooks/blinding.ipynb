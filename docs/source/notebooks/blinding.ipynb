{
 "cells": [
  {
   "cell_type": "markdown",
   "metadata": {},
   "source": [
    "# Blinded analyses\n",
    "In some studies it becomes necessary to hide the true value of a magnitude in order to prevent analysts to bias the result. The MinKit package offers a way to wrap the values and errors of the parameters to complicate the access to these attributes. Let's start by building a model composed by two components."
   ]
  },
  {
   "cell_type": "code",
   "execution_count": 1,
   "metadata": {},
   "outputs": [],
   "source": [
    "%matplotlib inline\n",
    "import matplotlib.pyplot as plt\n",
    "import minkit\n",
    "import numpy as np\n",
    "\n",
    "m = minkit.Parameter('m', bounds=(0, 50))\n",
    "c = minkit.Parameter('c', 30, bounds=(10, 40))\n",
    "s = minkit.Parameter('s', 2, bounds=(1, 4))\n",
    "a = minkit.Parameter('a', 0.5, bounds=(0.1, 3))\n",
    "n = minkit.Parameter('n', 4, bounds=(2, 12))\n",
    "\n",
    "cb = minkit.CrystalBall('sig', m, c, s, a, n)\n",
    "\n",
    "k = minkit.Parameter('k', -0.01, bounds=(-1, 0))\n",
    "e = minkit.Exponential('bkg', m, k)\n",
    "\n",
    "y = minkit.Parameter('y', 0.5, bounds=(0, 1))\n",
    "\n",
    "pdf = minkit.AddPDFs.two_components('pdf', cb, e, y)\n",
    "\n",
    "data = pdf.generate(10000)"
   ]
  },
  {
   "cell_type": "markdown",
   "metadata": {},
   "source": [
    "Now that we have the PDF and a data sample to fit we will blind the parameters ruling the tail of the Crystal-Ball function *a* and *n*."
   ]
  },
  {
   "cell_type": "code",
   "execution_count": 2,
   "metadata": {},
   "outputs": [],
   "source": [
    "a.set_blinding_configuration(scale=10, offset=2)\n",
    "n.set_blinding_configuration(scale=10, offset=3)"
   ]
  },
  {
   "cell_type": "markdown",
   "metadata": {},
   "source": [
    "The first element of the tuple rules the distance of the *blinded* value to the true value of the parameter. The second is related to a scale factor that multiplies the sum of the two previous quantities. Two random numbers are generated and determine the final equation to transform *true values* into *blinded values*. You can see that both the values and the bounds of the parameters are now modified when we access them:"
   ]
  },
  {
   "cell_type": "code",
   "execution_count": 3,
   "metadata": {},
   "outputs": [
    {
     "name": "stdout",
     "output_type": "stream",
     "text": [
      "(a) value: 4.916079425426541, bounds: [ 3.36839491 14.58910765]\n",
      "(n) value: 23.091460187211293, bounds: [11.66798573 68.78535801]\n"
     ]
    }
   ],
   "source": [
    "print(f'(a) value: {a.value}, bounds: {a.bounds}')\n",
    "print(f'(n) value: {n.value}, bounds: {n.bounds}')"
   ]
  },
  {
   "cell_type": "markdown",
   "metadata": {},
   "source": [
    "Note that from this and from the initial values it is possible to determine the transformation that is used in order to hide the true values. The *blinding* procedure is just a way to avoid looking at the true result before the whole analysis strategy has been defined, and the sensitivities have been computed. We can now run a fit and see the results."
   ]
  },
  {
   "cell_type": "code",
   "execution_count": 4,
   "metadata": {},
   "outputs": [
    {
     "data": {
      "text/html": [
       "<hr>"
      ]
     },
     "metadata": {},
     "output_type": "display_data"
    },
    {
     "data": {
      "text/html": [
       "<table>\n",
       "    <tr>\n",
       "        <td title=\"Minimum value of function\">FCN = 73316.91876327076</td>\n",
       "        <td title=\"Total number of call to FCN so far\">TOTAL NCALL = 205</td>\n",
       "        <td title=\"Number of call in last migrad\">NCALLS = 205</td>\n",
       "    </tr>\n",
       "    <tr>\n",
       "        <td title=\"Estimated distance to minimum\">EDM = 0.00021678981525882242</td>\n",
       "        <td title=\"Maximum EDM definition of convergence\">GOAL EDM = 1e-05</td>\n",
       "        <td title=\"Error def. Amount of increase in FCN to be defined as 1 standard deviation\">\n",
       "        UP = 1.0</td>\n",
       "    </tr>\n",
       "</table>\n",
       "<table>\n",
       "    <tr>\n",
       "        <td align=\"center\" title=\"Validity of the migrad call\">Valid</td>\n",
       "        <td align=\"center\" title=\"Validity of parameters\">Valid Param</td>\n",
       "        <td align=\"center\" title=\"Is Covariance matrix accurate?\">Accurate Covar</td>\n",
       "        <td align=\"center\" title=\"Positive definiteness of covariance matrix\">PosDef</td>\n",
       "        <td align=\"center\" title=\"Was covariance matrix made posdef by adding diagonal element\">Made PosDef</td>\n",
       "    </tr>\n",
       "    <tr>\n",
       "        <td align=\"center\" style=\"background-color:#92CCA6\">True</td>\n",
       "        <td align=\"center\" style=\"background-color:#92CCA6\">True</td>\n",
       "        <td align=\"center\" style=\"background-color:#92CCA6\">True</td>\n",
       "        <td align=\"center\" style=\"background-color:#92CCA6\">True</td>\n",
       "        <td align=\"center\" style=\"background-color:#92CCA6\">False</td>\n",
       "    </tr>\n",
       "    <tr>\n",
       "        <td align=\"center\" title=\"Was last hesse call fail?\">Hesse Fail</td>\n",
       "        <td align=\"center\" title=\"Validity of covariance\">HasCov</td>\n",
       "        <td align=\"center\" title=\"Is EDM above goal EDM?\">Above EDM</td>\n",
       "        <td align=\"center\"></td>\n",
       "        <td align=\"center\" title=\"Did last migrad call reach max call limit?\">Reach calllim</td>\n",
       "    </tr>\n",
       "    <tr>\n",
       "        <td align=\"center\" style=\"background-color:#92CCA6\">False</td>\n",
       "        <td align=\"center\" style=\"background-color:#92CCA6\">True</td>\n",
       "        <td align=\"center\" style=\"background-color:#92CCA6\">False</td>\n",
       "        <td align=\"center\"></td>\n",
       "        <td align=\"center\" style=\"background-color:#92CCA6\">False</td>\n",
       "    </tr>\n",
       "</table>"
      ]
     },
     "metadata": {},
     "output_type": "display_data"
    },
    {
     "data": {
      "text/html": [
       "<table>\n",
       "    <tr>\n",
       "        <td><a href=\"#\" onclick=\"$('#FAHPWFkVzT').toggle()\">+</a></td>\n",
       "        <td title=\"Variable name\">Name</td>\n",
       "        <td title=\"Value of parameter\">Value</td>\n",
       "        <td title=\"Hesse error\">Hesse Error</td>\n",
       "        <td title=\"Minos lower error\">Minos Error-</td>\n",
       "        <td title=\"Minos upper error\">Minos Error+</td>\n",
       "        <td title=\"Lower limit of the parameter\">Limit-</td>\n",
       "        <td title=\"Upper limit of the parameter\">Limit+</td>\n",
       "        <td title=\"Is the parameter fixed in the fit\">Fixed?</td>\n",
       "    </tr>\n",
       "    <tr>\n",
       "        <td>0</td>\n",
       "        <td>y</td>\n",
       "        <td>0.486587</td>\n",
       "        <td>0.0153591</td>\n",
       "        <td></td>\n",
       "        <td></td>\n",
       "        <td>0</td>\n",
       "        <td>1</td>\n",
       "        <td>No</td>\n",
       "    </tr>\n",
       "    <tr>\n",
       "        <td>1</td>\n",
       "        <td>c</td>\n",
       "        <td>29.9696</td>\n",
       "        <td>0.0993224</td>\n",
       "        <td></td>\n",
       "        <td></td>\n",
       "        <td>10</td>\n",
       "        <td>40</td>\n",
       "        <td>No</td>\n",
       "    </tr>\n",
       "    <tr>\n",
       "        <td>2</td>\n",
       "        <td>s</td>\n",
       "        <td>1.88962</td>\n",
       "        <td>0.0807156</td>\n",
       "        <td></td>\n",
       "        <td></td>\n",
       "        <td>1</td>\n",
       "        <td>4</td>\n",
       "        <td>No</td>\n",
       "    </tr>\n",
       "    <tr>\n",
       "        <td>3</td>\n",
       "        <td>a</td>\n",
       "        <td>4.818</td>\n",
       "        <td>0.195265</td>\n",
       "        <td></td>\n",
       "        <td></td>\n",
       "        <td>3.36839</td>\n",
       "        <td>14.5891</td>\n",
       "        <td>No</td>\n",
       "    </tr>\n",
       "    <tr>\n",
       "        <td>4</td>\n",
       "        <td>n</td>\n",
       "        <td>28.8568</td>\n",
       "        <td>13.2898</td>\n",
       "        <td></td>\n",
       "        <td></td>\n",
       "        <td>11.668</td>\n",
       "        <td>68.7854</td>\n",
       "        <td>No</td>\n",
       "    </tr>\n",
       "    <tr>\n",
       "        <td>5</td>\n",
       "        <td>k</td>\n",
       "        <td>-0.0104713</td>\n",
       "        <td>0.00148297</td>\n",
       "        <td></td>\n",
       "        <td></td>\n",
       "        <td>-1</td>\n",
       "        <td>0</td>\n",
       "        <td>No</td>\n",
       "    </tr>\n",
       "</table>\n",
       "<pre id=\"FAHPWFkVzT\" style=\"display:none;\">\n",
       "<textarea rows=\"18\" cols=\"50\" onclick=\"this.select()\" readonly>\n",
       "\\begin{tabular}{|c|r|r|r|r|r|r|r|c|}\n",
       "\\hline\n",
       " & Name & Value & Hesse Error & Minos Error- & Minos Error+ & Limit- & Limit+ & Fixed?\\\\\n",
       "\\hline\n",
       "0 & y & 0.486587 & 0.0153591 &  &  & 0.0 & 1 & No\\\\\n",
       "\\hline\n",
       "1 & c & 29.9696 & 0.0993224 &  &  & 10.0 & 40 & No\\\\\n",
       "\\hline\n",
       "2 & s & 1.88962 & 0.0807156 &  &  & 1.0 & 4 & No\\\\\n",
       "\\hline\n",
       "3 & a & 4.818 & 0.195265 &  &  & 3.368394910080472 & 14.5891 & No\\\\\n",
       "\\hline\n",
       "4 & n & 28.8568 & 13.2898 &  &  & 11.66798573169708 & 68.7854 & No\\\\\n",
       "\\hline\n",
       "5 & k & -0.0104713 & 0.00148297 &  &  & -1.0 & 0 & No\\\\\n",
       "\\hline\n",
       "\\end{tabular}\n",
       "</textarea>\n",
       "</pre>"
      ]
     },
     "metadata": {},
     "output_type": "display_data"
    },
    {
     "data": {
      "text/html": [
       "<hr>"
      ]
     },
     "metadata": {},
     "output_type": "display_data"
    }
   ],
   "source": [
    "with minkit.minimizer('uml', pdf, data) as minimizer:\n",
    "    minimizer.minimize()"
   ]
  },
  {
   "cell_type": "markdown",
   "metadata": {},
   "source": [
    "You can see that in the information displayed by MIGRAD the bounds and values of the parameters are shown blinded. If we attempt to generate or evaluate the PDF on our own, it will be called with the blinded values. In order to retrieve the true result we must remove the configuration of the data parameters, as"
   ]
  },
  {
   "cell_type": "code",
   "execution_count": 5,
   "metadata": {},
   "outputs": [
    {
     "name": "stdout",
     "output_type": "stream",
     "text": [
      "value: 0.4746508248852612, error: 0.05046636659115967, bounds: [0.1 3. ]\n"
     ]
    }
   ],
   "source": [
    "a.set_blinding_configuration(None)\n",
    "print(f'value: {a.value}, error: {a.error}, bounds: {a.bounds}')"
   ]
  },
  {
   "cell_type": "markdown",
   "metadata": {},
   "source": [
    "If we want to modify the value of the parameter, either we work with the blinded parameter (thus the provided value must lie within the blinded bounds), or we must unblind it before. In order to have a better control of the *blinding* status of the parameter, it is possible to create a context where the parameter is unblinded. This turns usefull when plotting results, for example:"
   ]
  },
  {
   "cell_type": "code",
   "execution_count": 6,
   "metadata": {},
   "outputs": [
    {
     "data": {
      "image/png": "[encoded data removed]",
      "text/plain": [
       "<Figure size 432x288 with 1 Axes>"
      ]
     },
     "metadata": {
      "needs_background": "light"
     },
     "output_type": "display_data"
    }
   ],
   "source": [
    "fig, ax = plt.subplots(1, 1, figsize=(6, 4))\n",
    "\n",
    "with n.blind(status=False): # we disable the blind status\n",
    "    values, edges = minkit.data_plotting_arrays(data, bins=100)\n",
    "    centers = 0.5 * (edges[1:] + edges[:-1])\n",
    "    bkg_x, bkg_y = minkit.pdf_plotting_arrays(pdf, values, edges, component='bkg')\n",
    "    sig_x, sig_y = minkit.pdf_plotting_arrays(pdf, values, edges, component='sig')\n",
    "    pdf_x, pdf_y = minkit.pdf_plotting_arrays(pdf, values, edges)\n",
    "    ax.hist(centers, bins=edges, weights=values, histtype='step')\n",
    "    ax.plot(bkg_x, bkg_y, ':', label='bkg')\n",
    "    ax.plot(sig_x, sig_y, '--', label='sig')\n",
    "    ax.plot(pdf_x, pdf_y, '-')\n",
    "    ax.set_xlabel('m')\n",
    "    ax.legend()"
   ]
  },
  {
   "cell_type": "markdown",
   "metadata": {},
   "source": [
    "We can also calculate asymmetric errors or FCN profiles but, to ensure that the minimum of the parameter remains blinded, the values  to provide must correspond to the *blinded* bounds."
   ]
  },
  {
   "cell_type": "code",
   "execution_count": 7,
   "metadata": {},
   "outputs": [
    {
     "name": "stdout",
     "output_type": "stream",
     "text": [
      "(blind) asymmetric errors: (10.937916281125702, 32.470209012032726)\n",
      "(unblind) asymmetric errors: (1.91498940602014, 5.684821923221278)\n"
     ]
    },
    {
     "data": {
      "image/png": "[encoded data removed]",
      "text/plain": [
       "<Figure size 864x288 with 2 Axes>"
      ]
     },
     "metadata": {
      "needs_background": "light"
     },
     "output_type": "display_data"
    }
   ],
   "source": [
    "fig, (ax0, ax1) = plt.subplots(1, 2, figsize=(12, 4))\n",
    "\n",
    "with minkit.minimizer('uml', pdf, data) as minimizer:\n",
    "    \n",
    "    minimizer.minuit.print_level = 0\n",
    "    \n",
    "    minimizer.minimize()\n",
    "    \n",
    "    minimizer.asymmetric_errors('n')\n",
    "    \n",
    "    print(f'(blind) asymmetric errors: {n.asym_errors}')\n",
    "    with n.blind(status=False):\n",
    "        print(f'(unblind) asymmetric errors: {n.asym_errors}')\n",
    "    \n",
    "    values = np.linspace(*n.bounds, 40)\n",
    "    profile = minimizer.fcn_profile('n', values)\n",
    "    ax0.plot(values, profile, 'C0-', label='FCN profile')\n",
    "    profile = minimizer.minimization_profile('n', values)\n",
    "    ax0.plot(values, profile, 'C1:', label='FCN minimization profile')\n",
    "    ax0.set_title('blind')\n",
    "    \n",
    "    with n.blind(status=False):\n",
    "        values = np.linspace(*n.bounds, 40)\n",
    "        profile = minimizer.fcn_profile('n', values)\n",
    "        ax1.plot(values, profile, 'C0-', label='FCN profile')\n",
    "        profile = minimizer.minimization_profile('n', values)\n",
    "        ax1.plot(values, profile, 'C1:', label='FCN minimization profile')\n",
    "        ax1.set_title('unblind')\n",
    "    \n",
    "    for ax in (ax0, ax1):\n",
    "        ax.set_xlabel('n')\n",
    "        ax.set_ylabel('FCN')\n",
    "        ax.legend()\n",
    "        \n",
    "fig.tight_layout()"
   ]
  },
  {
   "cell_type": "markdown",
   "metadata": {},
   "source": [
    "In conclusion, operations involving blinded parameters are completely safe as long as the user does not compute the transformation coefficients."
   ]
  },
  {
   "cell_type": "markdown",
   "metadata": {},
   "source": [
    "## Blinding based on an offset\n",
    "It might be of interest to set a blinding method in such a way that the absolute error of the blinded parameter reflects the actual error of the true value. This can only be achieved by applying a blinding transformation based on an offset. As can be checked below, after the fit the two errors for the center of the Gaussian function are exactly the same."
   ]
  },
  {
   "cell_type": "code",
   "execution_count": 8,
   "metadata": {},
   "outputs": [
    {
     "data": {
      "text/html": [
       "<hr>"
      ]
     },
     "metadata": {},
     "output_type": "display_data"
    },
    {
     "data": {
      "text/html": [
       "<table>\n",
       "    <tr>\n",
       "        <td title=\"Minimum value of function\">FCN = 41636.1983920052</td>\n",
       "        <td title=\"Total number of call to FCN so far\">TOTAL NCALL = 35</td>\n",
       "        <td title=\"Number of call in last migrad\">NCALLS = 35</td>\n",
       "    </tr>\n",
       "    <tr>\n",
       "        <td title=\"Estimated distance to minimum\">EDM = 1.9046023587938045e-07</td>\n",
       "        <td title=\"Maximum EDM definition of convergence\">GOAL EDM = 1e-05</td>\n",
       "        <td title=\"Error def. Amount of increase in FCN to be defined as 1 standard deviation\">\n",
       "        UP = 1.0</td>\n",
       "    </tr>\n",
       "</table>\n",
       "<table>\n",
       "    <tr>\n",
       "        <td align=\"center\" title=\"Validity of the migrad call\">Valid</td>\n",
       "        <td align=\"center\" title=\"Validity of parameters\">Valid Param</td>\n",
       "        <td align=\"center\" title=\"Is Covariance matrix accurate?\">Accurate Covar</td>\n",
       "        <td align=\"center\" title=\"Positive definiteness of covariance matrix\">PosDef</td>\n",
       "        <td align=\"center\" title=\"Was covariance matrix made posdef by adding diagonal element\">Made PosDef</td>\n",
       "    </tr>\n",
       "    <tr>\n",
       "        <td align=\"center\" style=\"background-color:#92CCA6\">True</td>\n",
       "        <td align=\"center\" style=\"background-color:#92CCA6\">True</td>\n",
       "        <td align=\"center\" style=\"background-color:#92CCA6\">True</td>\n",
       "        <td align=\"center\" style=\"background-color:#92CCA6\">True</td>\n",
       "        <td align=\"center\" style=\"background-color:#92CCA6\">False</td>\n",
       "    </tr>\n",
       "    <tr>\n",
       "        <td align=\"center\" title=\"Was last hesse call fail?\">Hesse Fail</td>\n",
       "        <td align=\"center\" title=\"Validity of covariance\">HasCov</td>\n",
       "        <td align=\"center\" title=\"Is EDM above goal EDM?\">Above EDM</td>\n",
       "        <td align=\"center\"></td>\n",
       "        <td align=\"center\" title=\"Did last migrad call reach max call limit?\">Reach calllim</td>\n",
       "    </tr>\n",
       "    <tr>\n",
       "        <td align=\"center\" style=\"background-color:#92CCA6\">False</td>\n",
       "        <td align=\"center\" style=\"background-color:#92CCA6\">True</td>\n",
       "        <td align=\"center\" style=\"background-color:#92CCA6\">False</td>\n",
       "        <td align=\"center\"></td>\n",
       "        <td align=\"center\" style=\"background-color:#92CCA6\">False</td>\n",
       "    </tr>\n",
       "</table>"
      ]
     },
     "metadata": {},
     "output_type": "display_data"
    },
    {
     "data": {
      "text/html": [
       "<table>\n",
       "    <tr>\n",
       "        <td><a href=\"#\" onclick=\"$('#WSNiRreGeU').toggle()\">+</a></td>\n",
       "        <td title=\"Variable name\">Name</td>\n",
       "        <td title=\"Value of parameter\">Value</td>\n",
       "        <td title=\"Hesse error\">Hesse Error</td>\n",
       "        <td title=\"Minos lower error\">Minos Error-</td>\n",
       "        <td title=\"Minos upper error\">Minos Error+</td>\n",
       "        <td title=\"Lower limit of the parameter\">Limit-</td>\n",
       "        <td title=\"Upper limit of the parameter\">Limit+</td>\n",
       "        <td title=\"Is the parameter fixed in the fit\">Fixed?</td>\n",
       "    </tr>\n",
       "    <tr>\n",
       "        <td>0</td>\n",
       "        <td>c</td>\n",
       "        <td>24.5985</td>\n",
       "        <td>0.0205312</td>\n",
       "        <td></td>\n",
       "        <td></td>\n",
       "        <td>19.6135</td>\n",
       "        <td>39.6135</td>\n",
       "        <td>No</td>\n",
       "    </tr>\n",
       "    <tr>\n",
       "        <td>1</td>\n",
       "        <td>s</td>\n",
       "        <td>1.99639</td>\n",
       "        <td>0.0154959</td>\n",
       "        <td></td>\n",
       "        <td></td>\n",
       "        <td>0.5</td>\n",
       "        <td>4</td>\n",
       "        <td>No</td>\n",
       "    </tr>\n",
       "</table>\n",
       "<pre id=\"WSNiRreGeU\" style=\"display:none;\">\n",
       "<textarea rows=\"10\" cols=\"50\" onclick=\"this.select()\" readonly>\n",
       "\\begin{tabular}{|c|r|r|r|r|r|r|r|c|}\n",
       "\\hline\n",
       " & Name & Value & Hesse Error & Minos Error- & Minos Error+ & Limit- & Limit+ & Fixed?\\\\\n",
       "\\hline\n",
       "0 & c & 24.5985 & 0.0205312 &  &  & 19.613493593517056 & 39.6135 & No\\\\\n",
       "\\hline\n",
       "1 & s & 1.99639 & 0.0154959 &  &  & 0.5 & 4 & No\\\\\n",
       "\\hline\n",
       "\\end{tabular}\n",
       "</textarea>\n",
       "</pre>"
      ]
     },
     "metadata": {},
     "output_type": "display_data"
    },
    {
     "data": {
      "text/html": [
       "<hr>"
      ]
     },
     "metadata": {},
     "output_type": "display_data"
    },
    {
     "name": "stdout",
     "output_type": "stream",
     "text": [
      "(blinded) value: 24.59854545816524, error: 0.02053120700047728\n",
      "(unblinded) value: 14.985051864648185, error: 0.02053120700047728\n"
     ]
    }
   ],
   "source": [
    "m = minkit.Parameter('m', bounds=(10, 30))\n",
    "c = minkit.Parameter('c', 15, bounds=(10, 30))\n",
    "s = minkit.Parameter('s', 2, bounds=(0.5, 4))\n",
    "pdf = minkit.Gaussian('pdf', m, c, s)\n",
    "\n",
    "data = pdf.generate(10000)\n",
    "\n",
    "c.set_blinding_configuration(offset=10)\n",
    "\n",
    "with minkit.minimizer('uml', pdf, data) as minimizer:\n",
    "   \n",
    "    minimizer.minimize()\n",
    "    \n",
    "    print(f'(blinded) value: {c.value}, error: {c.error}')\n",
    "    with c.blind(status=False):\n",
    "        print(f'(unblinded) value: {c.value}, error: {c.error}')"
   ]
  },
  {
   "cell_type": "markdown",
   "metadata": {},
   "source": [
    "## Blinding based on a scale\n",
    "Instead of blinding a parameter in such a way that the absolute error remains constant after the transformation, we might be interested on only keeping the relative error. This is achieved by blinding the parameter using a scale factor. In the following example you can see that the relative error for the center remains unchanged."
   ]
  },
  {
   "cell_type": "code",
   "execution_count": 9,
   "metadata": {},
   "outputs": [
    {
     "data": {
      "text/html": [
       "<hr>"
      ]
     },
     "metadata": {},
     "output_type": "display_data"
    },
    {
     "data": {
      "text/html": [
       "<table>\n",
       "    <tr>\n",
       "        <td title=\"Minimum value of function\">FCN = 41597.425123299756</td>\n",
       "        <td title=\"Total number of call to FCN so far\">TOTAL NCALL = 31</td>\n",
       "        <td title=\"Number of call in last migrad\">NCALLS = 31</td>\n",
       "    </tr>\n",
       "    <tr>\n",
       "        <td title=\"Estimated distance to minimum\">EDM = 4.7529705427563455e-05</td>\n",
       "        <td title=\"Maximum EDM definition of convergence\">GOAL EDM = 1e-05</td>\n",
       "        <td title=\"Error def. Amount of increase in FCN to be defined as 1 standard deviation\">\n",
       "        UP = 1.0</td>\n",
       "    </tr>\n",
       "</table>\n",
       "<table>\n",
       "    <tr>\n",
       "        <td align=\"center\" title=\"Validity of the migrad call\">Valid</td>\n",
       "        <td align=\"center\" title=\"Validity of parameters\">Valid Param</td>\n",
       "        <td align=\"center\" title=\"Is Covariance matrix accurate?\">Accurate Covar</td>\n",
       "        <td align=\"center\" title=\"Positive definiteness of covariance matrix\">PosDef</td>\n",
       "        <td align=\"center\" title=\"Was covariance matrix made posdef by adding diagonal element\">Made PosDef</td>\n",
       "    </tr>\n",
       "    <tr>\n",
       "        <td align=\"center\" style=\"background-color:#92CCA6\">True</td>\n",
       "        <td align=\"center\" style=\"background-color:#92CCA6\">True</td>\n",
       "        <td align=\"center\" style=\"background-color:#92CCA6\">True</td>\n",
       "        <td align=\"center\" style=\"background-color:#92CCA6\">True</td>\n",
       "        <td align=\"center\" style=\"background-color:#92CCA6\">False</td>\n",
       "    </tr>\n",
       "    <tr>\n",
       "        <td align=\"center\" title=\"Was last hesse call fail?\">Hesse Fail</td>\n",
       "        <td align=\"center\" title=\"Validity of covariance\">HasCov</td>\n",
       "        <td align=\"center\" title=\"Is EDM above goal EDM?\">Above EDM</td>\n",
       "        <td align=\"center\"></td>\n",
       "        <td align=\"center\" title=\"Did last migrad call reach max call limit?\">Reach calllim</td>\n",
       "    </tr>\n",
       "    <tr>\n",
       "        <td align=\"center\" style=\"background-color:#92CCA6\">False</td>\n",
       "        <td align=\"center\" style=\"background-color:#92CCA6\">True</td>\n",
       "        <td align=\"center\" style=\"background-color:#92CCA6\">False</td>\n",
       "        <td align=\"center\"></td>\n",
       "        <td align=\"center\" style=\"background-color:#92CCA6\">False</td>\n",
       "    </tr>\n",
       "</table>"
      ]
     },
     "metadata": {},
     "output_type": "display_data"
    },
    {
     "data": {
      "text/html": [
       "<table>\n",
       "    <tr>\n",
       "        <td><a href=\"#\" onclick=\"$('#NQilDEdnRo').toggle()\">+</a></td>\n",
       "        <td title=\"Variable name\">Name</td>\n",
       "        <td title=\"Value of parameter\">Value</td>\n",
       "        <td title=\"Hesse error\">Hesse Error</td>\n",
       "        <td title=\"Minos lower error\">Minos Error-</td>\n",
       "        <td title=\"Minos upper error\">Minos Error+</td>\n",
       "        <td title=\"Lower limit of the parameter\">Limit-</td>\n",
       "        <td title=\"Upper limit of the parameter\">Limit+</td>\n",
       "        <td title=\"Is the parameter fixed in the fit\">Fixed?</td>\n",
       "    </tr>\n",
       "    <tr>\n",
       "        <td>0</td>\n",
       "        <td>c</td>\n",
       "        <td>134.947</td>\n",
       "        <td>0.184932</td>\n",
       "        <td></td>\n",
       "        <td></td>\n",
       "        <td>90.1757</td>\n",
       "        <td>270.527</td>\n",
       "        <td>No</td>\n",
       "    </tr>\n",
       "    <tr>\n",
       "        <td>1</td>\n",
       "        <td>s</td>\n",
       "        <td>1.99326</td>\n",
       "        <td>0.0154861</td>\n",
       "        <td></td>\n",
       "        <td></td>\n",
       "        <td>0.5</td>\n",
       "        <td>4</td>\n",
       "        <td>No</td>\n",
       "    </tr>\n",
       "</table>\n",
       "<pre id=\"NQilDEdnRo\" style=\"display:none;\">\n",
       "<textarea rows=\"10\" cols=\"50\" onclick=\"this.select()\" readonly>\n",
       "\\begin{tabular}{|c|r|r|r|r|r|r|r|c|}\n",
       "\\hline\n",
       " & Name & Value & Hesse Error & Minos Error- & Minos Error+ & Limit- & Limit+ & Fixed?\\\\\n",
       "\\hline\n",
       "0 & c & 134.947 & 0.184932 &  &  & 90.17574878918155 & 270.527 & No\\\\\n",
       "\\hline\n",
       "1 & s & 1.99326 & 0.0154861 &  &  & 0.5 & 4 & No\\\\\n",
       "\\hline\n",
       "\\end{tabular}\n",
       "</textarea>\n",
       "</pre>"
      ]
     },
     "metadata": {},
     "output_type": "display_data"
    },
    {
     "data": {
      "text/html": [
       "<hr>"
      ]
     },
     "metadata": {},
     "output_type": "display_data"
    },
    {
     "name": "stdout",
     "output_type": "stream",
     "text": [
      "(blinded) value: 134.9468969851281, relative error: 0.0013704086124704377\n",
      "(unblinded) value: 14.964876787506949, relative error: 0.001370408612470438\n"
     ]
    }
   ],
   "source": [
    "\n",
    "m = minkit.Parameter('m', bounds=(10, 30))\n",
    "c = minkit.Parameter('c', 15, bounds=(10, 30))\n",
    "s = minkit.Parameter('s', 2, bounds=(0.5, 4))\n",
    "pdf = minkit.Gaussian('pdf', m, c, s)\n",
    "\n",
    "data = pdf.generate(10000)\n",
    "\n",
    "c.set_blinding_configuration(scale=10)\n",
    "\n",
    "with minkit.minimizer('uml', pdf, data) as minimizer:\n",
    "   \n",
    "    minimizer.minimize()\n",
    "    \n",
    "    print(f'(blinded) value: {c.value}, relative error: {c.error / c.value}')\n",
    "    with c.blind(status=False):\n",
    "        print(f'(unblinded) value: {c.value}, relative error: {c.error / c.value}')"
   ]
  }
 ],
 "metadata": {
  "kernelspec": {
   "display_name": "Python 3",
   "language": "python",
   "name": "python3"
  },
  "language_info": {
   "codemirror_mode": {
    "name": "ipython",
    "version": 3
   },
   "file_extension": ".py",
   "mimetype": "text/x-python",
   "name": "python",
   "nbconvert_exporter": "python",
   "pygments_lexer": "ipython3",
   "version": "3.6.8"
  }
 },
 "nbformat": 4,
 "nbformat_minor": 2
}
