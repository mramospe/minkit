{
 "cells": [
  {
   "cell_type": "markdown",
   "metadata": {},
   "source": [
    "# Creating data sets\n",
    "In this section it will be shown how to handle both binned and unbinned data sets with the MinKit package. Both data sets can be easily built using NumPy arrays. In case of dealing with GPU backends, an internal conversion is done in order to adapt the arrays to run in such environment. This is done in order to reduce the interaction of the users with the detailed operations that must be done both in the CPU and GPU side in order to do computations."
   ]
  },
  {
   "cell_type": "code",
   "execution_count": 1,
   "metadata": {},
   "outputs": [],
   "source": [
    "%matplotlib inline\n",
    "import matplotlib.pyplot as plt\n",
    "import minkit\n",
    "import numpy as np"
   ]
  },
  {
   "cell_type": "markdown",
   "metadata": {},
   "source": [
    "## Unbinned data sets\n",
    "In this case, the data set represents an array of values for each data parameter. These data sets are meant to be used in unbinned maximum likelihood fits. The data can be directly imported from a NumPy array."
   ]
  },
  {
   "cell_type": "code",
   "execution_count": 2,
   "metadata": {},
   "outputs": [],
   "source": [
    "numpy_data = np.random.normal(15, 1, 10000)\n",
    "\n",
    "x = minkit.Parameter('x', bounds=(10, 20))\n",
    "\n",
    "data = minkit.DataSet.from_ndarray(numpy_data, x)"
   ]
  },
  {
   "cell_type": "markdown",
   "metadata": {},
   "source": [
    "Values inside the data set have not been trimmed, that is, points outside the bounds defined by the data parameter are not removed, although it will be done if we decide to do certain operations on them, like a fit. The *DataSet* class allows to merge and create subsets."
   ]
  },
  {
   "cell_type": "code",
   "execution_count": 3,
   "metadata": {},
   "outputs": [
    {
     "name": "stdout",
     "output_type": "stream",
     "text": [
      "Length of primordial sample: 10000\n",
      "Length of merged data sample: 11000\n"
     ]
    },
    {
     "data": {
      "image/png": "[encoded data removed]",
      "text/plain": [
       "<Figure size 432x288 with 1 Axes>"
      ]
     },
     "metadata": {
      "needs_background": "light"
     },
     "output_type": "display_data"
    }
   ],
   "source": [
    "new_numpy_data = np.random.normal(15, 1, 1000)\n",
    "\n",
    "print(f'Length of primordial sample: {len(data)}')\n",
    "\n",
    "new_data = minkit.DataSet.from_ndarray(new_numpy_data, x)\n",
    "\n",
    "merged_data = minkit.DataSet.merge([data, new_data])\n",
    "\n",
    "print(f'Length of merged data sample: {len(merged_data)}')\n",
    "\n",
    "values, edges = minkit.data_plotting_arrays(data, bins=100)\n",
    "\n",
    "centers = 0.5 * (edges[1:] + edges[:-1])\n",
    "\n",
    "plt.hist(centers, bins=edges, weights=values);"
   ]
  },
  {
   "cell_type": "markdown",
   "metadata": {},
   "source": [
    "In unbinned data sets we can also define a set of weights to use."
   ]
  },
  {
   "cell_type": "code",
   "execution_count": 4,
   "metadata": {},
   "outputs": [
    {
     "data": {
      "image/png": "[encoded data removed]",
      "text/plain": [
       "<Figure size 432x288 with 1 Axes>"
      ]
     },
     "metadata": {
      "needs_background": "light"
     },
     "output_type": "display_data"
    }
   ],
   "source": [
    "weights = np.random.uniform(0, 1, len(numpy_data))\n",
    "\n",
    "data = minkit.DataSet.from_ndarray(numpy_data, x, weights=weights)\n",
    "\n",
    "values, edges = minkit.data_plotting_arrays(data, bins=100)\n",
    "\n",
    "centers = 0.5 * (edges[1:] + edges[:-1])\n",
    "\n",
    "plt.hist(centers, bins=edges, weights=values);"
   ]
  },
  {
   "cell_type": "markdown",
   "metadata": {},
   "source": [
    "## Binned data sets\n",
    "A binned data set is composed by two arrays, one defining the centers of the bins, and another the values in them. Let's calculate the values and edges from the previous data sample and then build a binned data set with them."
   ]
  },
  {
   "cell_type": "code",
   "execution_count": 5,
   "metadata": {},
   "outputs": [
    {
     "data": {
      "image/png": "[encoded data removed]",
      "text/plain": [
       "<Figure size 432x288 with 1 Axes>"
      ]
     },
     "metadata": {
      "needs_background": "light"
     },
     "output_type": "display_data"
    }
   ],
   "source": [
    "values, edges = np.histogram(numpy_data, bins=100, range=x.bounds)\n",
    "\n",
    "binned_data = minkit.BinnedDataSet.from_ndarray(edges, x, values)\n",
    "\n",
    "v, e = minkit.data_plotting_arrays(binned_data)\n",
    "\n",
    "c = 0.5 * (e[1:] + e[:-1])\n",
    "\n",
    "plt.hist(c, bins=e, weights=v);"
   ]
  },
  {
   "cell_type": "markdown",
   "metadata": {},
   "source": [
    "The centers of the data set are accessed using the [] operator. Using *minkit.data_plotting_arrays* we can rebin the histogram, so we draw it with less bins."
   ]
  },
  {
   "cell_type": "code",
   "execution_count": 6,
   "metadata": {},
   "outputs": [
    {
     "data": {
      "image/png": "[encoded data removed]",
      "text/plain": [
       "<Figure size 432x288 with 1 Axes>"
      ]
     },
     "metadata": {
      "needs_background": "light"
     },
     "output_type": "display_data"
    }
   ],
   "source": [
    "v, e = minkit.data_plotting_arrays(binned_data, rebin=2)\n",
    "\n",
    "c = 0.5 * (e[1:] + e[:-1])\n",
    "\n",
    "plt.hist(c, bins=e, weights=v);"
   ]
  },
  {
   "cell_type": "markdown",
   "metadata": {},
   "source": [
    "This way we have reduced the number of bins from 100 to 50. Note that we can create binned data sets from unbinned data sets calling the *make_binned* method."
   ]
  },
  {
   "cell_type": "code",
   "execution_count": 7,
   "metadata": {},
   "outputs": [
    {
     "data": {
      "image/png": "[encoded data removed]",
      "text/plain": [
       "<Figure size 432x288 with 1 Axes>"
      ]
     },
     "metadata": {
      "needs_background": "light"
     },
     "output_type": "display_data"
    }
   ],
   "source": [
    "binned_data_vis = data.make_binned(bins=100)\n",
    "\n",
    "v, e = minkit.data_plotting_arrays(binned_data)\n",
    "\n",
    "c = 0.5 * (e[1:] + e[:-1])\n",
    "\n",
    "plt.hist(c, bins=e, weights=v);"
   ]
  }
 ],
 "metadata": {
  "kernelspec": {
   "display_name": "Python 3",
   "language": "python",
   "name": "python3"
  },
  "language_info": {
   "codemirror_mode": {
    "name": "ipython",
    "version": 3
   },
   "file_extension": ".py",
   "mimetype": "text/x-python",
   "name": "python",
   "nbconvert_exporter": "python",
   "pygments_lexer": "ipython3",
   "version": "3.6.8"
  }
 },
 "nbformat": 4,
 "nbformat_minor": 2
}
