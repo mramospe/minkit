{
 "cells": [
  {
   "cell_type": "markdown",
   "metadata": {},
   "source": [
    "# Adding custom PDFs\n",
    "In this section it will be explained how to create new PDFs and register them within MinKit.\n",
    "All the different PDFs in this package are built from XML files.\n",
    "This allows to automatically implement the operations independently of the backend.\n",
    "The only function that is really needed is that to calculate the value of the probability density function.\n",
    "Optionally, one can also specify the integral of the PDF between two points.\n",
    "If so, the normalization and the evaluation on binned data samples are automatically defined, which will boost both processes since no numerical calculations need to be done."
   ]
  },
  {
   "cell_type": "code",
   "execution_count": 1,
   "metadata": {},
   "outputs": [],
   "source": [
    "%matplotlib inline\n",
    "import matplotlib.pyplot as plt\n",
    "import minkit\n",
    "import numpy as np\n",
    "import os\n",
    "import tempfile"
   ]
  },
  {
   "cell_type": "markdown",
   "metadata": {},
   "source": [
    "## Creating a PDF from a formula\n",
    "In MinKit it is possible to create a custom PDF from a simple (one line) formula, as follows:"
   ]
  },
  {
   "cell_type": "code",
   "execution_count": 2,
   "metadata": {},
   "outputs": [
    {
     "data": {
      "image/png": "[encoded data removed]",
      "text/plain": [
       "<Figure size 432x288 with 1 Axes>"
      ]
     },
     "metadata": {
      "needs_background": "light"
     },
     "output_type": "display_data"
    }
   ],
   "source": [
    "x = minkit.Parameter('x', bounds=(-1.5 * np.pi, +1.5 * np.pi))\n",
    "a = minkit.Parameter('a', 1, bounds=(0.9, 1.1))\n",
    "b = minkit.Parameter('b', 0, bounds=(0.01, 1))\n",
    "\n",
    "formula = 'pow(cos(a * x + b), 2)'\n",
    "\n",
    "pdf = minkit.FormulaPDF.unidimensional('pdf', formula, x, [a, b])\n",
    "\n",
    "data = pdf.generate(10000)\n",
    "\n",
    "fig, ax = plt.subplots(1, 1, figsize=(6, 4))\n",
    "\n",
    "values, edges = minkit.data_plotting_arrays(data)\n",
    "\n",
    "centers = 0.5 * (edges[1:] + edges[:-1])\n",
    "\n",
    "ax.hist(centers, bins=edges, weights=values, histtype='step')\n",
    "ax.set_xlabel(x.name);"
   ]
  },
  {
   "cell_type": "markdown",
   "metadata": {},
   "source": [
    "We can also provide the primitive, so the integral can be computed."
   ]
  },
  {
   "cell_type": "code",
   "execution_count": 3,
   "metadata": {},
   "outputs": [
    {
     "name": "stdout",
     "output_type": "stream",
     "text": [
      "Normalization (numerical): 4.7124\n",
      "Normalization (analytical): 4.7124\n"
     ]
    }
   ],
   "source": [
    "primitive = '(2 * (a * x + b) + sin(2 * (a * x + b))) / (4 * a)'\n",
    "\n",
    "pdf_with_primitive = minkit.FormulaPDF.unidimensional('pdf', formula, x, [a, b], primitive)\n",
    "\n",
    "print(f'Normalization (numerical): {pdf.norm():.4f}')\n",
    "print(f'Normalization (analytical): {pdf_with_primitive.norm():.4f}')"
   ]
  },
  {
   "cell_type": "markdown",
   "metadata": {},
   "source": [
    "In the formula strings, only functions exposed by the *math.h* header are defined. MinKit creates the source code from both the formula and the primitive and compiles it at runtime."
   ]
  },
  {
   "cell_type": "markdown",
   "metadata": {},
   "source": [
    "## Defining complex PDFs\n",
    "In order to add a new PDF to MinKit, where the evaluation function consists on more than one line, we must create a source XML file, and tell the MinKit package to add its directory to the list of directories to search for PDFs. For this example, we will create a C++ file from python on a temporary directory."
   ]
  },
  {
   "cell_type": "code",
   "execution_count": 4,
   "metadata": {},
   "outputs": [],
   "source": [
    "tmpdir = tempfile.TemporaryDirectory()\n",
    "\n",
    "with open(os.path.join(tmpdir.name, 'CustomPDF.xml'), 'wt') as f:\n",
    "    f.write('''\n",
    "<PDF data=\"x\" parameters=\"k\">\n",
    "  <preamble/>\n",
    "  <function>\n",
    "      return exp(k * x);\n",
    "  </function>\n",
    "  <integral bounds=\"xmin xmax\">\n",
    "      return 1. / k * (exp(k * xmax) - exp(k * xmin));\n",
    "  </integral>\n",
    "</PDF>\n",
    "        ''')"
   ]
  },
  {
   "cell_type": "markdown",
   "metadata": {},
   "source": [
    "The root of the XML tree must contain the fields *data*, referring to the data parameters to use; and *parameters* or *variable_parameters*, refferring to the parameters that the PDF uses. The latter must contain two names. The first rules the number of variable parameters and the second is the name of the pointer to the array of values. In addition, the XML parser accepts the following fields:\n",
    "\n",
    "* *function* (required): refers to the code used to evaluate the PDF. All the mathematical functions must be available in C.\n",
    "* *preamble* (optional): any kind of definition that needs to be added after the *include* directives.\n",
    "* *integral* (optional): this field is optional since not all the PDFs have an analytical expression for the integral. It is recommended to fill this field when possible, since otherwise MinKit relies on numerical calculations to evaluate binned samples and calculate the normalization. This field must be composed of two parts: *bounds*, defining the names for the limits of the integration; and *code*, where the calculation of the integral is done. If working with more than one data parameter, *bounds* must contain the lower and upper bounds for each parameter, included consecutively (xmin, xmax, ymin, ymax, ...).\n",
    "* *primitive* (optional): if provided, this function is used to calculate the integral of the function. If it is provided together with *integral*, the latter will be used.\n",
    "\n",
    "Something very important to remember is that since we are dealing with XML format, the symbols <, >, &, \" and ' are protected. We must use the escaped versions. Now we have to register the PDF. In order to be used in python, we must tell minkit to look for PDFs in the temporary directory."
   ]
  },
  {
   "cell_type": "code",
   "execution_count": 5,
   "metadata": {},
   "outputs": [],
   "source": [
    "minkit.add_pdf_src(tmpdir.name)"
   ]
  },
  {
   "cell_type": "markdown",
   "metadata": {},
   "source": [
    "Now we have to build a python object to represent the PDF. This is directly done when inheriting from \"minkit.SourcePDF\", which will automatically set our PDF."
   ]
  },
  {
   "cell_type": "code",
   "execution_count": 6,
   "metadata": {},
   "outputs": [],
   "source": [
    "@minkit.register_pdf\n",
    "class CustomPDF(minkit.SourcePDF):\n",
    "    def __init__( self, name, x, k ):\n",
    "        super(CustomPDF, self).__init__(name, [x], [k])"
   ]
  },
  {
   "cell_type": "markdown",
   "metadata": {},
   "source": [
    "The *register_pdf* decorator is necessary if we want to save/load the PDF to/from JSON files. It is completely necessary that we call the function the same way we call the source file. The arguments to the *minkit.SourcePDF* constructor are the name of the PDF, the data parameters and the argument parameters. Now we can declare and use our function."
   ]
  },
  {
   "cell_type": "code",
   "execution_count": 7,
   "metadata": {
    "scrolled": true
   },
   "outputs": [
    {
     "data": {
      "image/png": "[encoded data removed]",
      "text/plain": [
       "<Figure size 432x288 with 1 Axes>"
      ]
     },
     "metadata": {
      "needs_background": "light"
     },
     "output_type": "display_data"
    }
   ],
   "source": [
    "x = minkit.Parameter('x', bounds=(0, 10))\n",
    "k = minkit.Parameter('k', -0.5)\n",
    "pdf = CustomPDF('pdf', x, k)\n",
    "data = pdf.generate(10000)\n",
    "plt.hist(data['x'].as_ndarray(), bins=100);"
   ]
  },
  {
   "cell_type": "markdown",
   "metadata": {},
   "source": [
    "## New PDFs with a variable number of arguments\n",
    "It might happen that one wants to define a general function, which depends on a list of parameters that can vary (for example, a polynomial) from one construction to another.\n",
    "This can be done on a similar way to that of the previous section, providing as a third argument to *minkit.SourcePDF* the list of extra arguments."
   ]
  },
  {
   "cell_type": "code",
   "execution_count": 8,
   "metadata": {},
   "outputs": [],
   "source": [
    "@minkit.register_pdf\n",
    "class VarArgsCustomPDF(minkit.SourcePDF):\n",
    "    def __init__( self, name, x, *coeffs ):\n",
    "        super(VarArgsCustomPDF, self).__init__(name, [x], None, coeffs)"
   ]
  },
  {
   "cell_type": "markdown",
   "metadata": {},
   "source": [
    "The XML file must be modified accordingly, using the field *variable_parameters*:"
   ]
  },
  {
   "cell_type": "code",
   "execution_count": 9,
   "metadata": {},
   "outputs": [
    {
     "data": {
      "image/png": "[encoded data removed]",
      "text/plain": [
       "<Figure size 432x288 with 1 Axes>"
      ]
     },
     "metadata": {
      "needs_background": "light"
     },
     "output_type": "display_data"
    }
   ],
   "source": [
    "with open(os.path.join(tmpdir.name, 'VarArgsCustomPDF.xml'), 'wt') as f:\n",
    "    f.write('''\n",
    "<PDF data=\"x\" variable_parameters=\"n p\">\n",
    "  <preamble/>\n",
    "  <function>\n",
    "      if ( n == 0 )\n",
    "        return 1.;\n",
    "\n",
    "      double out = x * p[n - 1];\n",
    "      for ( int i = 0; i &lt; n; ++i )\n",
    "        out = x * (out + p[n - i - 1]);\n",
    "      return out + 1.;\n",
    "  </function>\n",
    "</PDF>\n",
    "        ''')\n",
    "    \n",
    "x = minkit.Parameter('x', bounds=(0, 10))\n",
    "p1 = minkit.Parameter('p1', +0.5)\n",
    "pdf = VarArgsCustomPDF('pdf', x, p1)\n",
    "data = pdf.generate(10000)\n",
    "plt.hist(data['x'].as_ndarray(), bins=100);"
   ]
  },
  {
   "cell_type": "markdown",
   "metadata": {},
   "source": [
    "## Building a PDF proxy from a data set\n",
    "In MinKit it is also possible to create a PDF using a binned data set as a reference. This turns useful when we are not able to describe a data sample with any known distribution function. As it happens with the convolution PDFs, we can choose between using a *spline* or a linear interpolator."
   ]
  },
  {
   "cell_type": "code",
   "execution_count": 10,
   "metadata": {},
   "outputs": [
    {
     "data": {
      "image/png": "[encoded data removed]",
      "text/plain": [
       "<Figure size 864x288 with 2 Axes>"
      ]
     },
     "metadata": {
      "needs_background": "light"
     },
     "output_type": "display_data"
    }
   ],
   "source": [
    "binned_data = data.make_binned(10)\n",
    "\n",
    "pdf = minkit.InterpPDF.from_binned_dataset('pdf', binned_data) # build the class from a binned data set\n",
    "\n",
    "unbinned_data = pdf.generate(10000) # generate data using the PDF proxy\n",
    "\n",
    "fig, (ax0, ax1) = plt.subplots(1, 2, figsize=(12, 4))\n",
    "\n",
    "edges = binned_data.edges.as_ndarray()\n",
    "values = binned_data.values.as_ndarray()\n",
    "\n",
    "centers = 0.5 * (edges[1:] + edges[:-1])\n",
    "\n",
    "ax0.hist(centers, bins=edges, weights=values, histtype='step', color='k', label='data');\n",
    "\n",
    "pdf_centers, pdf_values = minkit.pdf_plotting_arrays(pdf, values, edges)\n",
    "\n",
    "ax0.plot(pdf_centers, pdf_values, 'b-');\n",
    "\n",
    "values, edges = minkit.data_plotting_arrays(data, bins=100)\n",
    "ax1.hist(0.5 * (edges[1:] + edges[:-1]), bins=edges, weights=values, histtype='step', color='C0', label='base');\n",
    "values, edges = minkit.data_plotting_arrays(unbinned_data, bins=100)\n",
    "ax1.hist(0.5 * (edges[1:] + edges[:-1]), bins=edges, weights=values, histtype='step', color='C1', label='proxy');\n",
    "ax1.legend(loc='upper left');"
   ]
  },
  {
   "cell_type": "markdown",
   "metadata": {},
   "source": [
    "Note that the quality of the PDF proxy will depend on the input arrays. A highly binned data sample will make the interpolated values fluctuate according to the bin heights. Sometimes it is better to reduce the number of bins so the interpolation curve is more smooth"
   ]
  }
 ],
 "metadata": {
  "kernelspec": {
   "display_name": "Python 3",
   "language": "python",
   "name": "python3"
  },
  "language_info": {
   "codemirror_mode": {
    "name": "ipython",
    "version": 3
   },
   "file_extension": ".py",
   "mimetype": "text/x-python",
   "name": "python",
   "nbconvert_exporter": "python",
   "pygments_lexer": "ipython3",
   "version": "3.7.6"
  }
 },
 "nbformat": 4,
 "nbformat_minor": 2
}
