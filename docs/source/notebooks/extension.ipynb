{
 "cells": [
  {
   "cell_type": "markdown",
   "metadata": {},
   "source": [
    "# Adding custom PDFs\n",
    "In this section it will be explained how to create new PDFs and register them within MinKit.\n",
    "All the different PDFs in this package are built from XML files.\n",
    "This allows to automatically implement the operations independently of the backend.\n",
    "The only function that is really needed is that to calculate the value of the probability density function.\n",
    "Optionally, one can also specify the integral of the PDF between two points.\n",
    "If so, the normalization and the evaluation on binned data samples are automatically defined, which will boost both processes since no numerical calculations need to be done."
   ]
  },
  {
   "cell_type": "markdown",
   "metadata": {},
   "source": [
    "## Basic example\n",
    "In order to add a new PDF for CPU, we must create a source XML file, and tell the MinKit package to add its directory to the list of directories to search for PDFs. For this example, we will create a C++ file from python on a temporary directory."
   ]
  },
  {
   "cell_type": "code",
   "execution_count": 1,
   "metadata": {},
   "outputs": [],
   "source": [
    "%matplotlib inline\n",
    "import matplotlib.pyplot as plt\n",
    "import minkit\n",
    "import os\n",
    "import tempfile\n",
    "\n",
    "tmpdir = tempfile.TemporaryDirectory()\n",
    "\n",
    "with open(os.path.join(tmpdir.name, 'CustomPDF.xml'), 'wt') as f:\n",
    "    f.write('''\n",
    "<PDF>\n",
    "  <preamble/>\n",
    "  <parameters k=\"k\"/>\n",
    "  <function>\n",
    "    <data x=\"x\"/>\n",
    "    <code>\n",
    "      return exp(k * x);\n",
    "    </code>\n",
    "  </function>\n",
    "  <integral>\n",
    "    <bounds xmin=\"xmin\" xmax=\"xmax\"/>\n",
    "    <code>\n",
    "      return 1. / k * (exp(k * xmax) - exp(k * xmin));\n",
    "    </code>\n",
    "  </integral>\n",
    "</PDF>\n",
    "        ''')"
   ]
  },
  {
   "cell_type": "markdown",
   "metadata": {},
   "source": [
    "The fields that are present are:\n",
    "\n",
    "* *preamble* (optional): any kind of definition that needs to be added after the *include* directives.\n",
    "* *parameters* (optional): defines the parameters that will be used as input arguments for both *function* and *integral*. The quoted values will be the actual names of the parameters\n",
    "* *variable_parameters* (optional): this field controls the possible paramaters of a PDF which might vary in number, like for a polynomial PDF, for example. It must contain both the name of the variable referring to the number of parameters and that for the pointer to their values. More information about this kind of PDFs can be found in the next section.\n",
    "* *function*: refers to the code used to evaluate the PDF. It must contain a field called *data*, with the different data parameters to use; and *code*, where the actual calculations are done. All the mathematical functions must be available in C.\n",
    "* *integral* (optional): this field is optional, since not all the PDFs have an analytical expression for the integral. It is recommended to fill this field when possible, since otherwise MinKit relies on numerical calculations to evaluate binned samples and calculate the normalization. This field must be composed of two parts: *bounds*, defining the names for the limits of the integration; and *code*, where the calculation of the integral is done. If working with more than one data parameter, *bounds* must contain the lower and upper bounds for each parameter, included consecutively (xmin, xmax, ymin, ymax, ...).\n",
    "\n",
    "Something very important to remember is that since we are dealing with XML format, the symbols <, >, &, \" and ' are protected. We must use the escaped versions. Now we have to register the PDF. In order to be used in python, we must tell minkit to look for PDFs in the temporary directory."
   ]
  },
  {
   "cell_type": "code",
   "execution_count": 2,
   "metadata": {},
   "outputs": [],
   "source": [
    "minkit.add_pdf_src(tmpdir.name)"
   ]
  },
  {
   "cell_type": "markdown",
   "metadata": {},
   "source": [
    "Now we have to build a python object to represent the PDF. This is directly done when inheriting from \"minkit.SourcePDF\", which will automatically set our PDF."
   ]
  },
  {
   "cell_type": "code",
   "execution_count": 3,
   "metadata": {},
   "outputs": [],
   "source": [
    "@minkit.register_pdf\n",
    "class CustomPDF(minkit.SourcePDF):\n",
    "    def __init__( self, name, x, k ):\n",
    "        super(CustomPDF, self).__init__(name, [x], [k])"
   ]
  },
  {
   "cell_type": "markdown",
   "metadata": {},
   "source": [
    "The *register_pdf* decorator is necessary if we want to save/load the PDF to/from JSON files. It is completely necessary that we call the function the same way we call the source file. The arguments to the *minkit.SourcePDF* constructor are the name of the PDF, the data parameters and the argument parameters. Now we can declare and use our function."
   ]
  },
  {
   "cell_type": "code",
   "execution_count": 4,
   "metadata": {
    "scrolled": true
   },
   "outputs": [
    {
     "data": {
      "image/png": "[encoded data removed]",
      "text/plain": [
       "<Figure size 432x288 with 1 Axes>"
      ]
     },
     "metadata": {
      "needs_background": "light"
     },
     "output_type": "display_data"
    }
   ],
   "source": [
    "x = minkit.Parameter('x', bounds=(0, 10))\n",
    "k = minkit.Parameter('k', -0.5)\n",
    "pdf = CustomPDF('pdf', x, k)\n",
    "data = pdf.generate(10000)\n",
    "plt.hist(data['x'].as_ndarray(), bins=100);"
   ]
  },
  {
   "cell_type": "markdown",
   "metadata": {},
   "source": [
    "## New PDFs with a variable number of arguments\n",
    "It might happen that one wants to define a general function, which depends on a list of parameters that can vary (for example, a polynomial) from one construction to another.\n",
    "This can be done on a similar way to that of the previous section, providing as a third argument to *minkit.SourcePDF* the list of extra arguments."
   ]
  },
  {
   "cell_type": "code",
   "execution_count": 5,
   "metadata": {},
   "outputs": [],
   "source": [
    "@minkit.register_pdf\n",
    "class VarArgsCustomPDF(minkit.SourcePDF):\n",
    "    def __init__( self, name, x, *coeffs ):\n",
    "        super(VarArgsCustomPDF, self).__init__(name, [x], None, coeffs)"
   ]
  },
  {
   "cell_type": "markdown",
   "metadata": {},
   "source": [
    "The XML file must be modified accordingly, using the field *variable_parameters*:"
   ]
  },
  {
   "cell_type": "code",
   "execution_count": 6,
   "metadata": {},
   "outputs": [
    {
     "data": {
      "image/png": "[encoded data removed]",
      "text/plain": [
       "<Figure size 432x288 with 1 Axes>"
      ]
     },
     "metadata": {
      "needs_background": "light"
     },
     "output_type": "display_data"
    }
   ],
   "source": [
    "with open(os.path.join(tmpdir.name, 'VarArgsCustomPDF.xml'), 'wt') as f:\n",
    "    f.write('''\n",
    "<PDF>\n",
    "  <preamble/>\n",
    "  <variable_parameters n=\"n\" p=\"p\"/>\n",
    "  <function>\n",
    "    <data x=\"x\"/>\n",
    "    <code>\n",
    "      if ( n == 0 )\n",
    "        return 1.;\n",
    "        \n",
    "      double out = x * p[n - 1];\n",
    "      for ( int i = 0; i &lt; n; ++i )\n",
    "        out = x * (out + p[n - i - 1]);\n",
    "      return out + 1.;\n",
    "    </code>\n",
    "  </function>\n",
    "</PDF>\n",
    "        ''')\n",
    "    \n",
    "x = minkit.Parameter('x', bounds=(0, 10))\n",
    "p1 = minkit.Parameter('p1', +0.5)\n",
    "pdf = VarArgsCustomPDF('pdf', x, p1)\n",
    "data = pdf.generate(10000)\n",
    "plt.hist(data['x'].as_ndarray(), bins=100);"
   ]
  },
  {
   "cell_type": "markdown",
   "metadata": {},
   "source": [
    "## Building a PDF proxy from a data set\n",
    "In MinKit it is also possible to create a PDF using a binned data set as a reference. This turns useful when we are not able to describe a data sample with any known distribution function. As it happens with the convolution PDFs, we can choose between using a *spline* or a linear interpolator."
   ]
  },
  {
   "cell_type": "code",
   "execution_count": 7,
   "metadata": {},
   "outputs": [
    {
     "data": {
      "image/png": "[encoded data removed]",
      "text/plain": [
       "<Figure size 864x288 with 2 Axes>"
      ]
     },
     "metadata": {
      "needs_background": "light"
     },
     "output_type": "display_data"
    }
   ],
   "source": [
    "binned_data = data.make_binned(10)\n",
    "\n",
    "pdf = minkit.InterpPDF.from_binned_dataset('pdf', binned_data) # build the class from a binned data set\n",
    "\n",
    "unbinned_data = pdf.generate(10000) # generate data using the PDF proxy\n",
    "\n",
    "fig, (ax0, ax1) = plt.subplots(1, 2, figsize=(12, 4))\n",
    "\n",
    "edges = binned_data.edges.as_ndarray()\n",
    "values = binned_data.values.as_ndarray()\n",
    "\n",
    "centers = 0.5 * (edges[1:] + edges[:-1])\n",
    "\n",
    "ax0.hist(centers, bins=edges, weights=values, histtype='step', color='k', label='data');\n",
    "\n",
    "pdf_centers, pdf_values = minkit.pdf_plotting_arrays(pdf, values, edges)\n",
    "\n",
    "ax0.plot(pdf_centers, pdf_values, 'b-');\n",
    "\n",
    "values, edges = minkit.data_plotting_arrays(data, bins=100)\n",
    "ax1.hist(0.5 * (edges[1:] + edges[:-1]), bins=edges, weights=values, histtype='step', color='C0', label='base');\n",
    "values, edges = minkit.data_plotting_arrays(unbinned_data, bins=100)\n",
    "ax1.hist(0.5 * (edges[1:] + edges[:-1]), bins=edges, weights=values, histtype='step', color='C1', label='proxy');\n",
    "ax1.legend(loc='upper left');"
   ]
  },
  {
   "cell_type": "markdown",
   "metadata": {},
   "source": [
    "Note that the quality of the PDF proxy will depend on the input arrays. A highly binned data sample will make the interpolated values fluctuate according to the bin heights. Sometimes it is better to reduce the number of bins so the interpolation curve is more smooth"
   ]
  }
 ],
 "metadata": {
  "kernelspec": {
   "display_name": "Python 3",
   "language": "python",
   "name": "python3"
  },
  "language_info": {
   "codemirror_mode": {
    "name": "ipython",
    "version": 3
   },
   "file_extension": ".py",
   "mimetype": "text/x-python",
   "name": "python",
   "nbconvert_exporter": "python",
   "pygments_lexer": "ipython3",
   "version": "3.6.8"
  }
 },
 "nbformat": 4,
 "nbformat_minor": 2
}
