{
 "cells": [
  {
   "cell_type": "markdown",
   "metadata": {},
   "source": [
    "# Minimization with MinKit\n",
    "The main purpose of the MinKit package is to do minimizations of PDFs to data sets, finding the set of parameter values that reproduce better the data. The user must be aware about the type of PDF is trying to fit, and select a proper minimization cuantity (FCN) accordingly. For example, if we are dealing with an unbinned dataset, we need an FCN defined for binned data sets. The same stands for extended and non-extended PDFs. The user must know whether an unbinned extended maximum likelihood FCN is needed or not. To give an idea of how the minimization is done with MinKit, let's create a simple model, generate some data, and fit it."
   ]
  },
  {
   "cell_type": "code",
   "execution_count": 1,
   "metadata": {},
   "outputs": [
    {
     "data": {
      "text/html": [
       "<hr>"
      ]
     },
     "metadata": {},
     "output_type": "display_data"
    },
    {
     "data": {
      "text/html": [
       "<table>\n",
       "    <tr>\n",
       "        <td title=\"Minimum value of function\">FCN = 28062.831086781676</td>\n",
       "        <td title=\"Total number of call to FCN so far\">TOTAL NCALL = 31</td>\n",
       "        <td title=\"Number of call in last migrad\">NCALLS = 31</td>\n",
       "    </tr>\n",
       "    <tr>\n",
       "        <td title=\"Estimated distance to minimum\">EDM = 1.2269143099803233e-05</td>\n",
       "        <td title=\"Maximum EDM definition of convergence\">GOAL EDM = 1e-05</td>\n",
       "        <td title=\"Error def. Amount of increase in FCN to be defined as 1 standard deviation\">\n",
       "        UP = 1.0</td>\n",
       "    </tr>\n",
       "</table>\n",
       "<table>\n",
       "    <tr>\n",
       "        <td align=\"center\" title=\"Validity of the migrad call\">Valid</td>\n",
       "        <td align=\"center\" title=\"Validity of parameters\">Valid Param</td>\n",
       "        <td align=\"center\" title=\"Is Covariance matrix accurate?\">Accurate Covar</td>\n",
       "        <td align=\"center\" title=\"Positive definiteness of covariance matrix\">PosDef</td>\n",
       "        <td align=\"center\" title=\"Was covariance matrix made posdef by adding diagonal element\">Made PosDef</td>\n",
       "    </tr>\n",
       "    <tr>\n",
       "        <td align=\"center\" style=\"background-color:#92CCA6\">True</td>\n",
       "        <td align=\"center\" style=\"background-color:#92CCA6\">True</td>\n",
       "        <td align=\"center\" style=\"background-color:#92CCA6\">True</td>\n",
       "        <td align=\"center\" style=\"background-color:#92CCA6\">True</td>\n",
       "        <td align=\"center\" style=\"background-color:#92CCA6\">False</td>\n",
       "    </tr>\n",
       "    <tr>\n",
       "        <td align=\"center\" title=\"Was last hesse call fail?\">Hesse Fail</td>\n",
       "        <td align=\"center\" title=\"Validity of covariance\">HasCov</td>\n",
       "        <td align=\"center\" title=\"Is EDM above goal EDM?\">Above EDM</td>\n",
       "        <td align=\"center\"></td>\n",
       "        <td align=\"center\" title=\"Did last migrad call reach max call limit?\">Reach calllim</td>\n",
       "    </tr>\n",
       "    <tr>\n",
       "        <td align=\"center\" style=\"background-color:#92CCA6\">False</td>\n",
       "        <td align=\"center\" style=\"background-color:#92CCA6\">True</td>\n",
       "        <td align=\"center\" style=\"background-color:#92CCA6\">False</td>\n",
       "        <td align=\"center\"></td>\n",
       "        <td align=\"center\" style=\"background-color:#92CCA6\">False</td>\n",
       "    </tr>\n",
       "</table>"
      ]
     },
     "metadata": {},
     "output_type": "display_data"
    },
    {
     "data": {
      "text/html": [
       "<table>\n",
       "    <tr>\n",
       "        <td><a href=\"#\" onclick=\"$('#VJnnLNMncH').toggle()\">+</a></td>\n",
       "        <td title=\"Variable name\">Name</td>\n",
       "        <td title=\"Value of parameter\">Value</td>\n",
       "        <td title=\"Hesse error\">Hesse Error</td>\n",
       "        <td title=\"Minos lower error\">Minos Error-</td>\n",
       "        <td title=\"Minos upper error\">Minos Error+</td>\n",
       "        <td title=\"Lower limit of the parameter\">Limit-</td>\n",
       "        <td title=\"Upper limit of the parameter\">Limit+</td>\n",
       "        <td title=\"Is the parameter fixed in the fit\">Fixed?</td>\n",
       "    </tr>\n",
       "    <tr>\n",
       "        <td>0</td>\n",
       "        <td>c</td>\n",
       "        <td>15.0109</td>\n",
       "        <td>0.00984361</td>\n",
       "        <td></td>\n",
       "        <td></td>\n",
       "        <td>10</td>\n",
       "        <td>20</td>\n",
       "        <td>No</td>\n",
       "    </tr>\n",
       "    <tr>\n",
       "        <td>1</td>\n",
       "        <td>s</td>\n",
       "        <td>0.984357</td>\n",
       "        <td>0.00696112</td>\n",
       "        <td></td>\n",
       "        <td></td>\n",
       "        <td>0.1</td>\n",
       "        <td>2</td>\n",
       "        <td>No</td>\n",
       "    </tr>\n",
       "</table>\n",
       "<pre id=\"VJnnLNMncH\" style=\"display:none;\">\n",
       "<textarea rows=\"10\" cols=\"50\" onclick=\"this.select()\" readonly>\n",
       "\\begin{tabular}{|c|r|r|r|r|r|r|r|c|}\n",
       "\\hline\n",
       " & Name & Value & Hesse Error & Minos Error- & Minos Error+ & Limit- & Limit+ & Fixed?\\\\\n",
       "\\hline\n",
       "0 & c & 15.0109 & 0.00984361 &  &  & 10.0 & 20 & No\\\\\n",
       "\\hline\n",
       "1 & s & 0.984357 & 0.00696112 &  &  & 0.1 & 2 & No\\\\\n",
       "\\hline\n",
       "\\end{tabular}\n",
       "</textarea>\n",
       "</pre>"
      ]
     },
     "metadata": {},
     "output_type": "display_data"
    },
    {
     "data": {
      "text/html": [
       "<hr>"
      ]
     },
     "metadata": {},
     "output_type": "display_data"
    },
    {
     "data": {
      "image/png": "[encoded data removed]",
      "text/plain": [
       "<Figure size 432x288 with 1 Axes>"
      ]
     },
     "metadata": {
      "needs_background": "light"
     },
     "output_type": "display_data"
    }
   ],
   "source": [
    "%matplotlib inline\n",
    "import matplotlib.pyplot as plt\n",
    "import minkit\n",
    "\n",
    "# Build the PDF\n",
    "x = minkit.Parameter('x', bounds=(10, 20))\n",
    "c = minkit.Parameter('c', 15, bounds=(10, 20))\n",
    "s = minkit.Parameter('s', 1, bounds=(0.1, 2))\n",
    "\n",
    "g = minkit.Gaussian('g', x, c, s)\n",
    "\n",
    "# Keep the initial values\n",
    "initials = g.get_values()\n",
    "\n",
    "# Generate data and do the fit\n",
    "data = g.generate(10000)\n",
    "\n",
    "with minkit.minimizer('uml', g, data) as minimizer:\n",
    "    minimizer.migrad()\n",
    "    \n",
    "# Plot the results\n",
    "values, edges = minkit.data_plotting_arrays(data, bins=100)\n",
    "\n",
    "centers = 0.5 * (edges[1:] + edges[:-1])\n",
    "\n",
    "plt.hist(centers, bins=edges, weights=values, histtype='step', color='k', label='data');\n",
    "\n",
    "gx, pdf_values = minkit.pdf_plotting_arrays(g, values, edges)\n",
    "plt.plot(gx, pdf_values, color='blue', label='PDF')\n",
    "plt.legend();\n",
    "\n",
    "# Reset values\n",
    "g.set_values(**initials)"
   ]
  },
  {
   "cell_type": "markdown",
   "metadata": {},
   "source": [
    "Note that we have called *minkit.minimizer* in order to create a context and do the minimization. The first argument is the FCN to use, an unbinned maximum likelihood in this case. It is very important that we do not change the properties of the PDF inside the *with* statement. This is because the PDF has enabled a cache. This means that, if the parameters have been set to constant, the evaluation of the PDF over the data values might have been kept in the cache, to reduce the execution time.\n",
    "\n",
    "Let's create a more complex model, adding a background-like contribution, using an exponential."
   ]
  },
  {
   "cell_type": "code",
   "execution_count": 2,
   "metadata": {},
   "outputs": [
    {
     "data": {
      "text/html": [
       "<hr>"
      ]
     },
     "metadata": {},
     "output_type": "display_data"
    },
    {
     "data": {
      "text/html": [
       "<table>\n",
       "    <tr>\n",
       "        <td title=\"Minimum value of function\">FCN = 41943.05473594662</td>\n",
       "        <td title=\"Total number of call to FCN so far\">TOTAL NCALL = 90</td>\n",
       "        <td title=\"Number of call in last migrad\">NCALLS = 90</td>\n",
       "    </tr>\n",
       "    <tr>\n",
       "        <td title=\"Estimated distance to minimum\">EDM = 2.693492254096236e-07</td>\n",
       "        <td title=\"Maximum EDM definition of convergence\">GOAL EDM = 1e-05</td>\n",
       "        <td title=\"Error def. Amount of increase in FCN to be defined as 1 standard deviation\">\n",
       "        UP = 1.0</td>\n",
       "    </tr>\n",
       "</table>\n",
       "<table>\n",
       "    <tr>\n",
       "        <td align=\"center\" title=\"Validity of the migrad call\">Valid</td>\n",
       "        <td align=\"center\" title=\"Validity of parameters\">Valid Param</td>\n",
       "        <td align=\"center\" title=\"Is Covariance matrix accurate?\">Accurate Covar</td>\n",
       "        <td align=\"center\" title=\"Positive definiteness of covariance matrix\">PosDef</td>\n",
       "        <td align=\"center\" title=\"Was covariance matrix made posdef by adding diagonal element\">Made PosDef</td>\n",
       "    </tr>\n",
       "    <tr>\n",
       "        <td align=\"center\" style=\"background-color:#92CCA6\">True</td>\n",
       "        <td align=\"center\" style=\"background-color:#92CCA6\">True</td>\n",
       "        <td align=\"center\" style=\"background-color:#92CCA6\">True</td>\n",
       "        <td align=\"center\" style=\"background-color:#92CCA6\">True</td>\n",
       "        <td align=\"center\" style=\"background-color:#92CCA6\">False</td>\n",
       "    </tr>\n",
       "    <tr>\n",
       "        <td align=\"center\" title=\"Was last hesse call fail?\">Hesse Fail</td>\n",
       "        <td align=\"center\" title=\"Validity of covariance\">HasCov</td>\n",
       "        <td align=\"center\" title=\"Is EDM above goal EDM?\">Above EDM</td>\n",
       "        <td align=\"center\"></td>\n",
       "        <td align=\"center\" title=\"Did last migrad call reach max call limit?\">Reach calllim</td>\n",
       "    </tr>\n",
       "    <tr>\n",
       "        <td align=\"center\" style=\"background-color:#92CCA6\">False</td>\n",
       "        <td align=\"center\" style=\"background-color:#92CCA6\">True</td>\n",
       "        <td align=\"center\" style=\"background-color:#92CCA6\">False</td>\n",
       "        <td align=\"center\"></td>\n",
       "        <td align=\"center\" style=\"background-color:#92CCA6\">False</td>\n",
       "    </tr>\n",
       "</table>"
      ]
     },
     "metadata": {},
     "output_type": "display_data"
    },
    {
     "data": {
      "text/html": [
       "<table>\n",
       "    <tr>\n",
       "        <td><a href=\"#\" onclick=\"$('#DiANuFFygO').toggle()\">+</a></td>\n",
       "        <td title=\"Variable name\">Name</td>\n",
       "        <td title=\"Value of parameter\">Value</td>\n",
       "        <td title=\"Hesse error\">Hesse Error</td>\n",
       "        <td title=\"Minos lower error\">Minos Error-</td>\n",
       "        <td title=\"Minos upper error\">Minos Error+</td>\n",
       "        <td title=\"Lower limit of the parameter\">Limit-</td>\n",
       "        <td title=\"Upper limit of the parameter\">Limit+</td>\n",
       "        <td title=\"Is the parameter fixed in the fit\">Fixed?</td>\n",
       "    </tr>\n",
       "    <tr>\n",
       "        <td>0</td>\n",
       "        <td>y</td>\n",
       "        <td>0.494858</td>\n",
       "        <td>0.00935828</td>\n",
       "        <td></td>\n",
       "        <td></td>\n",
       "        <td>0</td>\n",
       "        <td>1</td>\n",
       "        <td>No</td>\n",
       "    </tr>\n",
       "    <tr>\n",
       "        <td>1</td>\n",
       "        <td>c</td>\n",
       "        <td>15.0124</td>\n",
       "        <td>0.0207188</td>\n",
       "        <td></td>\n",
       "        <td></td>\n",
       "        <td>10</td>\n",
       "        <td>20</td>\n",
       "        <td>No</td>\n",
       "    </tr>\n",
       "    <tr>\n",
       "        <td>2</td>\n",
       "        <td>s</td>\n",
       "        <td>1.00092</td>\n",
       "        <td>0.0199707</td>\n",
       "        <td></td>\n",
       "        <td></td>\n",
       "        <td>0.1</td>\n",
       "        <td>2</td>\n",
       "        <td>No</td>\n",
       "    </tr>\n",
       "    <tr>\n",
       "        <td>3</td>\n",
       "        <td>k</td>\n",
       "        <td>-0.100324</td>\n",
       "        <td>0.00552526</td>\n",
       "        <td></td>\n",
       "        <td></td>\n",
       "        <td>-1</td>\n",
       "        <td>0</td>\n",
       "        <td>No</td>\n",
       "    </tr>\n",
       "</table>\n",
       "<pre id=\"DiANuFFygO\" style=\"display:none;\">\n",
       "<textarea rows=\"14\" cols=\"50\" onclick=\"this.select()\" readonly>\n",
       "\\begin{tabular}{|c|r|r|r|r|r|r|r|c|}\n",
       "\\hline\n",
       " & Name & Value & Hesse Error & Minos Error- & Minos Error+ & Limit- & Limit+ & Fixed?\\\\\n",
       "\\hline\n",
       "0 & y & 0.494858 & 0.00935828 &  &  & 0.0 & 1 & No\\\\\n",
       "\\hline\n",
       "1 & c & 15.0124 & 0.0207188 &  &  & 10.0 & 20 & No\\\\\n",
       "\\hline\n",
       "2 & s & 1.00092 & 0.0199707 &  &  & 0.1 & 2 & No\\\\\n",
       "\\hline\n",
       "3 & k & -0.100324 & 0.00552526 &  &  & -1.0 & 0 & No\\\\\n",
       "\\hline\n",
       "\\end{tabular}\n",
       "</textarea>\n",
       "</pre>"
      ]
     },
     "metadata": {},
     "output_type": "display_data"
    },
    {
     "data": {
      "text/html": [
       "<hr>"
      ]
     },
     "metadata": {},
     "output_type": "display_data"
    },
    {
     "data": {
      "image/png": "[encoded data removed]",
      "text/plain": [
       "<Figure size 432x288 with 1 Axes>"
      ]
     },
     "metadata": {
      "needs_background": "light"
     },
     "output_type": "display_data"
    }
   ],
   "source": [
    "# Make the exponential PDF\n",
    "k = minkit.Parameter('k', -0.1, bounds=(-1, 0))\n",
    "\n",
    "e = minkit.Exponential('e', x, k)\n",
    "\n",
    "# Add the two PDFs\n",
    "y = minkit.Parameter('y', 0.5, bounds=(0, 1))\n",
    "\n",
    "pdf = minkit.AddPDFs.two_components('pdf', g, e, y)\n",
    "\n",
    "data = pdf.generate(10000)\n",
    "\n",
    "# Keep the initial values\n",
    "initials = pdf.get_values()\n",
    "\n",
    "# Minimize the PDF\n",
    "with minkit.minimizer('uml', pdf, data) as minimizer:\n",
    "    minimizer.migrad()\n",
    "\n",
    "values, edges = minkit.data_plotting_arrays(data, bins=100)\n",
    "\n",
    "centers = 0.5 * (edges[1:] + edges[:-1])\n",
    "\n",
    "plt.hist(centers, bins=edges, weights=values, histtype='step', color='k', label='data');\n",
    "\n",
    "pdf_centers, pdf_values = minkit.pdf_plotting_arrays(pdf, values, edges)\n",
    "_, g_values = minkit.pdf_plotting_arrays(pdf, values, edges, component='g')\n",
    "_, e_values = minkit.pdf_plotting_arrays(pdf, values, edges, component='e')\n",
    "\n",
    "plt.plot(pdf_centers, e_values, color='orange', linestyle=':', label='Exponential')\n",
    "plt.plot(pdf_centers, g_values, color='green', linestyle='--', label='Gaussian')\n",
    "plt.plot(pdf_centers, pdf_values, color='blue', label='PDF')\n",
    "\n",
    "plt.legend();\n",
    "\n",
    "# Reset values\n",
    "pdf.set_values(**initials)"
   ]
  },
  {
   "cell_type": "markdown",
   "metadata": {},
   "source": [
    "Let's now assume we want to know the two yields of the PDFs. To do this we need to modify the model, and do and use an extended likelihood during the minimization."
   ]
  },
  {
   "cell_type": "code",
   "execution_count": 3,
   "metadata": {},
   "outputs": [
    {
     "data": {
      "text/html": [
       "<hr>"
      ]
     },
     "metadata": {},
     "output_type": "display_data"
    },
    {
     "data": {
      "text/html": [
       "<table>\n",
       "    <tr>\n",
       "        <td title=\"Minimum value of function\">FCN = -122421.71576433646</td>\n",
       "        <td title=\"Total number of call to FCN so far\">TOTAL NCALL = 127</td>\n",
       "        <td title=\"Number of call in last migrad\">NCALLS = 127</td>\n",
       "    </tr>\n",
       "    <tr>\n",
       "        <td title=\"Estimated distance to minimum\">EDM = 4.474362603366635e-06</td>\n",
       "        <td title=\"Maximum EDM definition of convergence\">GOAL EDM = 1e-05</td>\n",
       "        <td title=\"Error def. Amount of increase in FCN to be defined as 1 standard deviation\">\n",
       "        UP = 1.0</td>\n",
       "    </tr>\n",
       "</table>\n",
       "<table>\n",
       "    <tr>\n",
       "        <td align=\"center\" title=\"Validity of the migrad call\">Valid</td>\n",
       "        <td align=\"center\" title=\"Validity of parameters\">Valid Param</td>\n",
       "        <td align=\"center\" title=\"Is Covariance matrix accurate?\">Accurate Covar</td>\n",
       "        <td align=\"center\" title=\"Positive definiteness of covariance matrix\">PosDef</td>\n",
       "        <td align=\"center\" title=\"Was covariance matrix made posdef by adding diagonal element\">Made PosDef</td>\n",
       "    </tr>\n",
       "    <tr>\n",
       "        <td align=\"center\" style=\"background-color:#92CCA6\">True</td>\n",
       "        <td align=\"center\" style=\"background-color:#92CCA6\">True</td>\n",
       "        <td align=\"center\" style=\"background-color:#92CCA6\">True</td>\n",
       "        <td align=\"center\" style=\"background-color:#92CCA6\">True</td>\n",
       "        <td align=\"center\" style=\"background-color:#92CCA6\">False</td>\n",
       "    </tr>\n",
       "    <tr>\n",
       "        <td align=\"center\" title=\"Was last hesse call fail?\">Hesse Fail</td>\n",
       "        <td align=\"center\" title=\"Validity of covariance\">HasCov</td>\n",
       "        <td align=\"center\" title=\"Is EDM above goal EDM?\">Above EDM</td>\n",
       "        <td align=\"center\"></td>\n",
       "        <td align=\"center\" title=\"Did last migrad call reach max call limit?\">Reach calllim</td>\n",
       "    </tr>\n",
       "    <tr>\n",
       "        <td align=\"center\" style=\"background-color:#92CCA6\">False</td>\n",
       "        <td align=\"center\" style=\"background-color:#92CCA6\">True</td>\n",
       "        <td align=\"center\" style=\"background-color:#92CCA6\">False</td>\n",
       "        <td align=\"center\"></td>\n",
       "        <td align=\"center\" style=\"background-color:#92CCA6\">False</td>\n",
       "    </tr>\n",
       "</table>"
      ]
     },
     "metadata": {},
     "output_type": "display_data"
    },
    {
     "data": {
      "text/html": [
       "<table>\n",
       "    <tr>\n",
       "        <td><a href=\"#\" onclick=\"$('#oSrndnQFgd').toggle()\">+</a></td>\n",
       "        <td title=\"Variable name\">Name</td>\n",
       "        <td title=\"Value of parameter\">Value</td>\n",
       "        <td title=\"Hesse error\">Hesse Error</td>\n",
       "        <td title=\"Minos lower error\">Minos Error-</td>\n",
       "        <td title=\"Minos upper error\">Minos Error+</td>\n",
       "        <td title=\"Lower limit of the parameter\">Limit-</td>\n",
       "        <td title=\"Upper limit of the parameter\">Limit+</td>\n",
       "        <td title=\"Is the parameter fixed in the fit\">Fixed?</td>\n",
       "    </tr>\n",
       "    <tr>\n",
       "        <td>0</td>\n",
       "        <td>ng</td>\n",
       "        <td>4937.99</td>\n",
       "        <td>103.876</td>\n",
       "        <td></td>\n",
       "        <td></td>\n",
       "        <td>0</td>\n",
       "        <td>10000</td>\n",
       "        <td>No</td>\n",
       "    </tr>\n",
       "    <tr>\n",
       "        <td>1</td>\n",
       "        <td>ne</td>\n",
       "        <td>5062.06</td>\n",
       "        <td>104.449</td>\n",
       "        <td></td>\n",
       "        <td></td>\n",
       "        <td>0</td>\n",
       "        <td>10000</td>\n",
       "        <td>No</td>\n",
       "    </tr>\n",
       "    <tr>\n",
       "        <td>2</td>\n",
       "        <td>c</td>\n",
       "        <td>15.054</td>\n",
       "        <td>0.0198309</td>\n",
       "        <td></td>\n",
       "        <td></td>\n",
       "        <td>10</td>\n",
       "        <td>20</td>\n",
       "        <td>No</td>\n",
       "    </tr>\n",
       "    <tr>\n",
       "        <td>3</td>\n",
       "        <td>s</td>\n",
       "        <td>0.970276</td>\n",
       "        <td>0.0192064</td>\n",
       "        <td></td>\n",
       "        <td></td>\n",
       "        <td>0.1</td>\n",
       "        <td>2</td>\n",
       "        <td>No</td>\n",
       "    </tr>\n",
       "    <tr>\n",
       "        <td>4</td>\n",
       "        <td>k</td>\n",
       "        <td>-0.109972</td>\n",
       "        <td>0.00558507</td>\n",
       "        <td></td>\n",
       "        <td></td>\n",
       "        <td>-1</td>\n",
       "        <td>0</td>\n",
       "        <td>No</td>\n",
       "    </tr>\n",
       "</table>\n",
       "<pre id=\"oSrndnQFgd\" style=\"display:none;\">\n",
       "<textarea rows=\"16\" cols=\"50\" onclick=\"this.select()\" readonly>\n",
       "\\begin{tabular}{|c|r|r|r|r|r|r|r|c|}\n",
       "\\hline\n",
       " & Name & Value & Hesse Error & Minos Error- & Minos Error+ & Limit- & Limit+ & Fixed?\\\\\n",
       "\\hline\n",
       "0 & ng & 4937.99 & 103.876 &  &  & 0.0 & 10000 & No\\\\\n",
       "\\hline\n",
       "1 & ne & 5062.06 & 104.449 &  &  & 0.0 & 10000 & No\\\\\n",
       "\\hline\n",
       "2 & c & 15.054 & 0.0198309 &  &  & 10.0 & 20 & No\\\\\n",
       "\\hline\n",
       "3 & s & 0.970276 & 0.0192064 &  &  & 0.1 & 2 & No\\\\\n",
       "\\hline\n",
       "4 & k & -0.109972 & 0.00558507 &  &  & -1.0 & 0 & No\\\\\n",
       "\\hline\n",
       "\\end{tabular}\n",
       "</textarea>\n",
       "</pre>"
      ]
     },
     "metadata": {},
     "output_type": "display_data"
    },
    {
     "data": {
      "text/html": [
       "<hr>"
      ]
     },
     "metadata": {},
     "output_type": "display_data"
    },
    {
     "data": {
      "image/png": "[encoded data removed]",
      "text/plain": [
       "<Figure size 432x288 with 1 Axes>"
      ]
     },
     "metadata": {
      "needs_background": "light"
     },
     "output_type": "display_data"
    }
   ],
   "source": [
    "# Build the extended PDF\n",
    "ng = minkit.Parameter('ng', 5000, bounds=(0, 10000))\n",
    "ne = minkit.Parameter('ne', 5000, bounds=(0, 10000))\n",
    "\n",
    "pdf = minkit.AddPDFs.two_components('pdf', g, e, ng, ne)\n",
    "\n",
    "initials = pdf.get_values()\n",
    "\n",
    "# Generate and fit\n",
    "data = pdf.generate(int(ng.value + ne.value))\n",
    "\n",
    "ng.value = 6000 # vary the yields to flee from the minimum\n",
    "ne.value = len(data) - ng.value\n",
    "\n",
    "with minkit.minimizer('ueml', pdf, data) as minimizer:\n",
    "    minimizer.migrad()\n",
    "\n",
    "values, edges = minkit.data_plotting_arrays(data, bins=100)\n",
    "\n",
    "centers = 0.5 * (edges[1:] + edges[:-1])\n",
    "\n",
    "plt.hist(centers, bins=edges, weights=values, histtype='step', color='k', label='data');\n",
    "\n",
    "pdf_centers, pdf_values = minkit.pdf_plotting_arrays(pdf, values, edges)\n",
    "_, g_values = minkit.pdf_plotting_arrays(pdf, values, edges, component='g')\n",
    "_, e_values = minkit.pdf_plotting_arrays(pdf, values, edges, component='e')\n",
    "\n",
    "plt.plot(pdf_centers, e_values, color='orange', linestyle=':', label='Exponential')\n",
    "plt.plot(pdf_centers, g_values, color='green', linestyle='--', label='Gaussian')\n",
    "plt.plot(pdf_centers, pdf_values, color='blue', label='PDF')\n",
    "\n",
    "plt.legend();\n",
    "\n",
    "# Reset the values\n",
    "pdf.set_values(**initials)"
   ]
  },
  {
   "cell_type": "markdown",
   "metadata": {},
   "source": [
    "Note that we have specified the *ueml* (unbinned extended maximum likelihood) FCN. If we set it to *uml*, we would get wrong values. Let's now see what happens with binned data sets. In this case, we will use the *bml* FCN."
   ]
  },
  {
   "cell_type": "code",
   "execution_count": 4,
   "metadata": {},
   "outputs": [
    {
     "data": {
      "text/html": [
       "<hr>"
      ]
     },
     "metadata": {},
     "output_type": "display_data"
    },
    {
     "data": {
      "text/html": [
       "<table>\n",
       "    <tr>\n",
       "        <td title=\"Minimum value of function\">FCN = 103.46910089169657</td>\n",
       "        <td title=\"Total number of call to FCN so far\">TOTAL NCALL = 95</td>\n",
       "        <td title=\"Number of call in last migrad\">NCALLS = 95</td>\n",
       "    </tr>\n",
       "    <tr>\n",
       "        <td title=\"Estimated distance to minimum\">EDM = 5.282362173769283e-05</td>\n",
       "        <td title=\"Maximum EDM definition of convergence\">GOAL EDM = 1e-05</td>\n",
       "        <td title=\"Error def. Amount of increase in FCN to be defined as 1 standard deviation\">\n",
       "        UP = 1.0</td>\n",
       "    </tr>\n",
       "</table>\n",
       "<table>\n",
       "    <tr>\n",
       "        <td align=\"center\" title=\"Validity of the migrad call\">Valid</td>\n",
       "        <td align=\"center\" title=\"Validity of parameters\">Valid Param</td>\n",
       "        <td align=\"center\" title=\"Is Covariance matrix accurate?\">Accurate Covar</td>\n",
       "        <td align=\"center\" title=\"Positive definiteness of covariance matrix\">PosDef</td>\n",
       "        <td align=\"center\" title=\"Was covariance matrix made posdef by adding diagonal element\">Made PosDef</td>\n",
       "    </tr>\n",
       "    <tr>\n",
       "        <td align=\"center\" style=\"background-color:#92CCA6\">True</td>\n",
       "        <td align=\"center\" style=\"background-color:#92CCA6\">True</td>\n",
       "        <td align=\"center\" style=\"background-color:#92CCA6\">True</td>\n",
       "        <td align=\"center\" style=\"background-color:#92CCA6\">True</td>\n",
       "        <td align=\"center\" style=\"background-color:#92CCA6\">False</td>\n",
       "    </tr>\n",
       "    <tr>\n",
       "        <td align=\"center\" title=\"Was last hesse call fail?\">Hesse Fail</td>\n",
       "        <td align=\"center\" title=\"Validity of covariance\">HasCov</td>\n",
       "        <td align=\"center\" title=\"Is EDM above goal EDM?\">Above EDM</td>\n",
       "        <td align=\"center\"></td>\n",
       "        <td align=\"center\" title=\"Did last migrad call reach max call limit?\">Reach calllim</td>\n",
       "    </tr>\n",
       "    <tr>\n",
       "        <td align=\"center\" style=\"background-color:#92CCA6\">False</td>\n",
       "        <td align=\"center\" style=\"background-color:#92CCA6\">True</td>\n",
       "        <td align=\"center\" style=\"background-color:#92CCA6\">False</td>\n",
       "        <td align=\"center\"></td>\n",
       "        <td align=\"center\" style=\"background-color:#92CCA6\">False</td>\n",
       "    </tr>\n",
       "</table>"
      ]
     },
     "metadata": {},
     "output_type": "display_data"
    },
    {
     "data": {
      "text/html": [
       "<table>\n",
       "    <tr>\n",
       "        <td><a href=\"#\" onclick=\"$('#qEOYGAwTFZ').toggle()\">+</a></td>\n",
       "        <td title=\"Variable name\">Name</td>\n",
       "        <td title=\"Value of parameter\">Value</td>\n",
       "        <td title=\"Hesse error\">Hesse Error</td>\n",
       "        <td title=\"Minos lower error\">Minos Error-</td>\n",
       "        <td title=\"Minos upper error\">Minos Error+</td>\n",
       "        <td title=\"Lower limit of the parameter\">Limit-</td>\n",
       "        <td title=\"Upper limit of the parameter\">Limit+</td>\n",
       "        <td title=\"Is the parameter fixed in the fit\">Fixed?</td>\n",
       "    </tr>\n",
       "    <tr>\n",
       "        <td>0</td>\n",
       "        <td>ng</td>\n",
       "        <td>4937.15</td>\n",
       "        <td>7433.22</td>\n",
       "        <td></td>\n",
       "        <td></td>\n",
       "        <td>0</td>\n",
       "        <td>10000</td>\n",
       "        <td>No</td>\n",
       "    </tr>\n",
       "    <tr>\n",
       "        <td>1</td>\n",
       "        <td>ne</td>\n",
       "        <td>5061.74</td>\n",
       "        <td>7487.33</td>\n",
       "        <td></td>\n",
       "        <td></td>\n",
       "        <td>0</td>\n",
       "        <td>10000</td>\n",
       "        <td>No</td>\n",
       "    </tr>\n",
       "    <tr>\n",
       "        <td>2</td>\n",
       "        <td>c</td>\n",
       "        <td>15.0537</td>\n",
       "        <td>0.0198913</td>\n",
       "        <td></td>\n",
       "        <td></td>\n",
       "        <td>10</td>\n",
       "        <td>20</td>\n",
       "        <td>No</td>\n",
       "    </tr>\n",
       "    <tr>\n",
       "        <td>3</td>\n",
       "        <td>s</td>\n",
       "        <td>0.971885</td>\n",
       "        <td>0.019322</td>\n",
       "        <td></td>\n",
       "        <td></td>\n",
       "        <td>0.1</td>\n",
       "        <td>2</td>\n",
       "        <td>No</td>\n",
       "    </tr>\n",
       "    <tr>\n",
       "        <td>4</td>\n",
       "        <td>k</td>\n",
       "        <td>-0.109904</td>\n",
       "        <td>0.00559232</td>\n",
       "        <td></td>\n",
       "        <td></td>\n",
       "        <td>-1</td>\n",
       "        <td>0</td>\n",
       "        <td>No</td>\n",
       "    </tr>\n",
       "</table>\n",
       "<pre id=\"qEOYGAwTFZ\" style=\"display:none;\">\n",
       "<textarea rows=\"16\" cols=\"50\" onclick=\"this.select()\" readonly>\n",
       "\\begin{tabular}{|c|r|r|r|r|r|r|r|c|}\n",
       "\\hline\n",
       " & Name & Value & Hesse Error & Minos Error- & Minos Error+ & Limit- & Limit+ & Fixed?\\\\\n",
       "\\hline\n",
       "0 & ng & 4937.15 & 7433.22 &  &  & 0.0 & 10000 & No\\\\\n",
       "\\hline\n",
       "1 & ne & 5061.74 & 7487.33 &  &  & 0.0 & 10000 & No\\\\\n",
       "\\hline\n",
       "2 & c & 15.0537 & 0.0198913 &  &  & 10.0 & 20 & No\\\\\n",
       "\\hline\n",
       "3 & s & 0.971885 & 0.019322 &  &  & 0.1 & 2 & No\\\\\n",
       "\\hline\n",
       "4 & k & -0.109904 & 0.00559232 &  &  & -1.0 & 0 & No\\\\\n",
       "\\hline\n",
       "\\end{tabular}\n",
       "</textarea>\n",
       "</pre>"
      ]
     },
     "metadata": {},
     "output_type": "display_data"
    },
    {
     "data": {
      "text/html": [
       "<hr>"
      ]
     },
     "metadata": {},
     "output_type": "display_data"
    },
    {
     "data": {
      "image/png": "[encoded data removed]",
      "text/plain": [
       "<Figure size 432x288 with 1 Axes>"
      ]
     },
     "metadata": {
      "needs_background": "light"
     },
     "output_type": "display_data"
    }
   ],
   "source": [
    "import numpy as np\n",
    "\n",
    "values, edges = np.histogram(data['x'].as_ndarray(), bins=100, range=x.bounds)\n",
    "\n",
    "binned_data = minkit.BinnedDataSet.from_ndarray(edges, x, values)\n",
    "\n",
    "with minkit.minimizer('bml', pdf, binned_data) as minimizer:\n",
    "    minimizer.migrad()\n",
    "\n",
    "values, edges = minkit.data_plotting_arrays(data, bins=100)\n",
    "\n",
    "centers = 0.5 * (edges[1:] + edges[:-1])\n",
    "\n",
    "plt.hist(centers, bins=edges, weights=values, histtype='step', color='k', label='data');\n",
    "\n",
    "pdf_centers, pdf_values = minkit.pdf_plotting_arrays(pdf, values, edges)\n",
    "_, g_values = minkit.pdf_plotting_arrays(pdf, values, edges, component='g')\n",
    "_, e_values = minkit.pdf_plotting_arrays(pdf, values, edges, component='e')\n",
    "\n",
    "plt.plot(pdf_centers, e_values, color='orange', linestyle=':', label='Exponential')\n",
    "plt.plot(pdf_centers, g_values, color='green', linestyle='--', label='Gaussian')\n",
    "plt.plot(pdf_centers, pdf_values, color='blue', label='PDF')\n",
    "\n",
    "plt.legend();\n",
    "\n",
    "# Reset the values\n",
    "pdf.set_values(**initials)"
   ]
  },
  {
   "cell_type": "markdown",
   "metadata": {},
   "source": [
    "Similarly, with the FCN *chi2* we would be doing a fit to the chi-square, that is, we would be assuming that the input values, instead of following a Poisson distribution, they follow a Gaussian."
   ]
  }
 ],
 "metadata": {
  "kernelspec": {
   "display_name": "Python 3",
   "language": "python",
   "name": "python3"
  },
  "language_info": {
   "codemirror_mode": {
    "name": "ipython",
    "version": 3
   },
   "file_extension": ".py",
   "mimetype": "text/x-python",
   "name": "python",
   "nbconvert_exporter": "python",
   "pygments_lexer": "ipython3",
   "version": "3.6.8"
  }
 },
 "nbformat": 4,
 "nbformat_minor": 2
}
