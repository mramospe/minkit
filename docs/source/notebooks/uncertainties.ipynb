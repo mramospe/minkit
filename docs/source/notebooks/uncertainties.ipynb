{
 "cells": [
  {
   "cell_type": "markdown",
   "metadata": {},
   "source": [
    "# Uncertainties\n",
    "Uncertainties in the MinKit package are computed using the Hessian matrix. A more accurate uncertainty can be obtained by minimizing a PDF for several fixed values of a parameter(s). In Minuit, this is done using MINOS. However, MinKit provides a dedicated function to evaluate asymmetric uncertainties. The result is identical to that of MINOS, as can be see in the following example:"
   ]
  },
  {
   "cell_type": "code",
   "execution_count": 1,
   "metadata": {
    "scrolled": true
   },
   "outputs": [
    {
     "name": "stdout",
     "output_type": "stream",
     "text": [
      "Value (profile): 4.9728 + 0.4295 - 0.3519\n",
      "Value (minkit):  4.9728 + 0.4295 - 0.3519\n",
      "Value (minos):   4.9728 + 0.4295 - 0.3519\n"
     ]
    },
    {
     "data": {
      "image/png": "[encoded data removed]",
      "text/plain": [
       "<Figure size 432x288 with 1 Axes>"
      ]
     },
     "metadata": {
      "needs_background": "light"
     },
     "output_type": "display_data"
    }
   ],
   "source": [
    "%matplotlib inline\n",
    "import matplotlib.pyplot as plt\n",
    "import minkit\n",
    "import numpy as np\n",
    "\n",
    "from scipy.interpolate import make_interp_spline\n",
    "\n",
    "m = minkit.Parameter('m', bounds=(10, 30))\n",
    "c = minkit.Parameter('c', 20, bounds=(15, 25))\n",
    "s = minkit.Parameter('s', 5, bounds=(3, 10))\n",
    "g = minkit.Gaussian('g', m, c, s)\n",
    "\n",
    "data = g.generate(200)\n",
    "\n",
    "# Calculate the profile and the distance to the minimum\n",
    "values = np.linspace(*s.bounds, 1000)\n",
    "\n",
    "with minkit.minimizer('uml', g, data) as minimizer:\n",
    "  \n",
    "    r = minimizer.minimize()\n",
    "    \n",
    "    minimizer.minos('s') # minos must run before so the internal state of the minimum is set\n",
    "    \n",
    "    smn = s.copy()\n",
    "    \n",
    "    minimizer.minuit.print_level = 0 # reduce the verbosity of Minuit\n",
    "    profile = minimizer.minimization_profile('s', values)\n",
    "    minimizer.asymmetric_errors('s')\n",
    "    \n",
    "    skt = s.copy()\n",
    "\n",
    "# Split in left and right parts\n",
    "distances = profile - r.fcn\n",
    "\n",
    "cond = (values < s.value)\n",
    "\n",
    "left_values = values[cond]\n",
    "left_distances = distances[cond]\n",
    "right_values = values[~cond]\n",
    "right_distances = distances[~cond]\n",
    "\n",
    "# Calculate the position where the FCN varies one unit\n",
    "left_int = make_interp_spline(left_distances[::-1], left_values[::-1])\n",
    "right_int = make_interp_spline(right_distances, right_values)\n",
    "\n",
    "lv, rv = left_int(1), right_int(1)\n",
    "\n",
    "# Plot the results\n",
    "fmin, fmax = 0.99 * profile.min(), profile.max()\n",
    "\n",
    "fig, ax = plt.subplots(1, 1, figsize=(6, 4))\n",
    "ax.plot(values, profile);\n",
    "ax.plot([s.value], [r.fcn], marker='o', color='red');\n",
    "ax.plot((lv, lv), (fmin, fmax), 'r-', )\n",
    "ax.plot((rv, rv), (fmin, fmax), 'r-', )\n",
    "ax.set_xlabel('s');\n",
    "ax.set_ylabel('FCN');\n",
    "ax.set_xlim(*s.bounds)\n",
    "ax.set_ylim(fmin, fmax);\n",
    "\n",
    "# Show the result from the different methods\n",
    "print(f'Value (profile): {s.value:.4f} + {rv - s.value:.4f} - {s.value - lv:.4f}')\n",
    "print(f'Value (minkit):  {skt.value:.4f} + {skt.asym_errors[1]:.4f} - {skt.asym_errors[0]:.4f}')\n",
    "print(f'Value (minos):   {smn.value:.4f} + {smn.asym_errors[1]:.4f} - {smn.asym_errors[0]:.4f}')"
   ]
  }
 ],
 "metadata": {
  "kernelspec": {
   "display_name": "Python 3",
   "language": "python",
   "name": "python3"
  },
  "language_info": {
   "codemirror_mode": {
    "name": "ipython",
    "version": 3
   },
   "file_extension": ".py",
   "mimetype": "text/x-python",
   "name": "python",
   "nbconvert_exporter": "python",
   "pygments_lexer": "ipython3",
   "version": "3.7.6"
  }
 },
 "nbformat": 4,
 "nbformat_minor": 2
}
